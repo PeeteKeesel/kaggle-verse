{
 "cells": [
  {
   "cell_type": "code",
   "execution_count": 1,
   "id": "dbaa2e89",
   "metadata": {
    "_cell_guid": "b1076dfc-b9ad-4769-8c92-a6c4dae69d19",
    "_uuid": "8f2839f25d086af736a60e9eeb907d3b93b6e0e5",
    "execution": {
     "iopub.execute_input": "2024-11-24T20:21:02.168523Z",
     "iopub.status.busy": "2024-11-24T20:21:02.168116Z",
     "iopub.status.idle": "2024-11-24T20:21:05.633049Z",
     "shell.execute_reply": "2024-11-24T20:21:05.631879Z"
    },
    "papermill": {
     "duration": 3.475449,
     "end_time": "2024-11-24T20:21:05.635543",
     "exception": false,
     "start_time": "2024-11-24T20:21:02.160094",
     "status": "completed"
    },
    "tags": []
   },
   "outputs": [
    {
     "name": "stdout",
     "output_type": "stream",
     "text": [
      "/kaggle/input/telco-customer-churn/WA_Fn-UseC_-Telco-Customer-Churn.csv\n"
     ]
    }
   ],
   "source": [
    "import os\n",
    "for dirname, _, filenames in os.walk('/kaggle/input'):\n",
    "    for filename in filenames:\n",
    "        print(os.path.join(dirname, filename))\n",
    "        \n",
    "import warnings\n",
    "warnings.filterwarnings(\"ignore\", category=FutureWarning)           \n",
    "\n",
    "import numpy as np\n",
    "import pandas as pd\n",
    "import matplotlib.pyplot as plt\n",
    "import seaborn as sns\n",
    "\n",
    "from sklearn.preprocessing import LabelEncoder\n",
    "\n",
    "from sklearn.model_selection import train_test_split\n",
    "from sklearn.linear_model import LinearRegression, LogisticRegression\n",
    "from sklearn.metrics import classification_report, mean_squared_error, r2_score"
   ]
  },
  {
   "cell_type": "markdown",
   "id": "556f6bb7",
   "metadata": {
    "papermill": {
     "duration": 0.005035,
     "end_time": "2024-11-24T20:21:05.645951",
     "exception": false,
     "start_time": "2024-11-24T20:21:05.640916",
     "status": "completed"
    },
    "tags": []
   },
   "source": [
    "--- \n",
    "\n",
    "# 📊 Customer Churn 🤔 Explainable AI 🤖\n",
    "\n",
    "This notebook works with Kaggles [Telco Customer Churn dataset](https://www.kaggle.com/datasets/blastchar/telco-customer-churn/code) which focuses on customer retention programs. \n",
    "\n",
    "Note that I am working on this dataset as part of [Duke's Explainable AI Specialization](https://www.coursera.org/specializations/explainable-artificial-intelligence-xai?utm_medium=sem&utm_source=gg&utm_campaign=B2C_EMEA__coursera_FTCOF_career-academy_pmax-multiple-audiences-country-multi&campaignid=20858198824&adgroupid=&device=c&keyword=&matchtype=&network=x&devicemodel=&adposition=&creativeid=&hide_mobile_promo&gad_source=1&gclid=CjwKCAiA3Na5BhAZEiwAzrfagD0AmKcyNfdYYSiw0QGmJSw1OCpwp-8ftFFH1ScD1bI3hjLPyVTqixoCiqwQAvD_BwE) on Coursera. It is part of Course 2, Module 1. The tasks are described as: \n",
    "\n",
    "1. Exploratory Data Analysis to check Assumptions: Perform an exploratory analysis of the dataset to understand the relationships between different features and the target variable (churn). Use appropriate visualizations and statistical methods to determine whether assumptions about linear, logistic, and GAM models are met. \n",
    "2. Linear Regression: Treat the churn variable as a continuous variable (e.g., 0 for staying, 1 for churning) and build a linear regression model to predict churn. Interpret the coefficients and assess the model's performance.\n",
    "3. Logistic Regression: Treat churn as a binary variable and build a logistic regression model to predict the probability of churn. Interpret the coefficients.\n",
    "4. Generalized Additive Model (GAM): Build a GAM to model the non-linear relationships between customer features and churn. Interpret the GAM model. \n",
    "5. Model Comparison: Compare the performance and interpretability of the different models you built. Discuss the strengths and weaknesses of each approach and provide recommendations for which model(s) the telecommunications company should use to address their customer churn problem."
   ]
  },
  {
   "cell_type": "code",
   "execution_count": 2,
   "id": "587bb975",
   "metadata": {
    "execution": {
     "iopub.execute_input": "2024-11-24T20:21:05.658068Z",
     "iopub.status.busy": "2024-11-24T20:21:05.657515Z",
     "iopub.status.idle": "2024-11-24T20:21:05.765274Z",
     "shell.execute_reply": "2024-11-24T20:21:05.764048Z"
    },
    "papermill": {
     "duration": 0.11667,
     "end_time": "2024-11-24T20:21:05.767689",
     "exception": false,
     "start_time": "2024-11-24T20:21:05.651019",
     "status": "completed"
    },
    "tags": []
   },
   "outputs": [
    {
     "name": "stdout",
     "output_type": "stream",
     "text": [
      "Rows: 7,043\n",
      "Cols: 21\n"
     ]
    },
    {
     "data": {
      "text/html": [
       "<div>\n",
       "<style scoped>\n",
       "    .dataframe tbody tr th:only-of-type {\n",
       "        vertical-align: middle;\n",
       "    }\n",
       "\n",
       "    .dataframe tbody tr th {\n",
       "        vertical-align: top;\n",
       "    }\n",
       "\n",
       "    .dataframe thead th {\n",
       "        text-align: right;\n",
       "    }\n",
       "</style>\n",
       "<table border=\"1\" class=\"dataframe\">\n",
       "  <thead>\n",
       "    <tr style=\"text-align: right;\">\n",
       "      <th></th>\n",
       "      <th>customerID</th>\n",
       "      <th>gender</th>\n",
       "      <th>SeniorCitizen</th>\n",
       "      <th>Partner</th>\n",
       "      <th>Dependents</th>\n",
       "      <th>tenure</th>\n",
       "      <th>PhoneService</th>\n",
       "      <th>MultipleLines</th>\n",
       "      <th>InternetService</th>\n",
       "      <th>OnlineSecurity</th>\n",
       "      <th>...</th>\n",
       "      <th>DeviceProtection</th>\n",
       "      <th>TechSupport</th>\n",
       "      <th>StreamingTV</th>\n",
       "      <th>StreamingMovies</th>\n",
       "      <th>Contract</th>\n",
       "      <th>PaperlessBilling</th>\n",
       "      <th>PaymentMethod</th>\n",
       "      <th>MonthlyCharges</th>\n",
       "      <th>TotalCharges</th>\n",
       "      <th>Churn</th>\n",
       "    </tr>\n",
       "  </thead>\n",
       "  <tbody>\n",
       "    <tr>\n",
       "      <th>0</th>\n",
       "      <td>7590-VHVEG</td>\n",
       "      <td>Female</td>\n",
       "      <td>0</td>\n",
       "      <td>Yes</td>\n",
       "      <td>No</td>\n",
       "      <td>1</td>\n",
       "      <td>No</td>\n",
       "      <td>No phone service</td>\n",
       "      <td>DSL</td>\n",
       "      <td>No</td>\n",
       "      <td>...</td>\n",
       "      <td>No</td>\n",
       "      <td>No</td>\n",
       "      <td>No</td>\n",
       "      <td>No</td>\n",
       "      <td>Month-to-month</td>\n",
       "      <td>Yes</td>\n",
       "      <td>Electronic check</td>\n",
       "      <td>29.85</td>\n",
       "      <td>29.85</td>\n",
       "      <td>No</td>\n",
       "    </tr>\n",
       "    <tr>\n",
       "      <th>1</th>\n",
       "      <td>5575-GNVDE</td>\n",
       "      <td>Male</td>\n",
       "      <td>0</td>\n",
       "      <td>No</td>\n",
       "      <td>No</td>\n",
       "      <td>34</td>\n",
       "      <td>Yes</td>\n",
       "      <td>No</td>\n",
       "      <td>DSL</td>\n",
       "      <td>Yes</td>\n",
       "      <td>...</td>\n",
       "      <td>Yes</td>\n",
       "      <td>No</td>\n",
       "      <td>No</td>\n",
       "      <td>No</td>\n",
       "      <td>One year</td>\n",
       "      <td>No</td>\n",
       "      <td>Mailed check</td>\n",
       "      <td>56.95</td>\n",
       "      <td>1889.5</td>\n",
       "      <td>No</td>\n",
       "    </tr>\n",
       "    <tr>\n",
       "      <th>2</th>\n",
       "      <td>3668-QPYBK</td>\n",
       "      <td>Male</td>\n",
       "      <td>0</td>\n",
       "      <td>No</td>\n",
       "      <td>No</td>\n",
       "      <td>2</td>\n",
       "      <td>Yes</td>\n",
       "      <td>No</td>\n",
       "      <td>DSL</td>\n",
       "      <td>Yes</td>\n",
       "      <td>...</td>\n",
       "      <td>No</td>\n",
       "      <td>No</td>\n",
       "      <td>No</td>\n",
       "      <td>No</td>\n",
       "      <td>Month-to-month</td>\n",
       "      <td>Yes</td>\n",
       "      <td>Mailed check</td>\n",
       "      <td>53.85</td>\n",
       "      <td>108.15</td>\n",
       "      <td>Yes</td>\n",
       "    </tr>\n",
       "  </tbody>\n",
       "</table>\n",
       "<p>3 rows × 21 columns</p>\n",
       "</div>"
      ],
      "text/plain": [
       "   customerID  gender  SeniorCitizen Partner Dependents  tenure PhoneService  \\\n",
       "0  7590-VHVEG  Female              0     Yes         No       1           No   \n",
       "1  5575-GNVDE    Male              0      No         No      34          Yes   \n",
       "2  3668-QPYBK    Male              0      No         No       2          Yes   \n",
       "\n",
       "      MultipleLines InternetService OnlineSecurity  ... DeviceProtection  \\\n",
       "0  No phone service             DSL             No  ...               No   \n",
       "1                No             DSL            Yes  ...              Yes   \n",
       "2                No             DSL            Yes  ...               No   \n",
       "\n",
       "  TechSupport StreamingTV StreamingMovies        Contract PaperlessBilling  \\\n",
       "0          No          No              No  Month-to-month              Yes   \n",
       "1          No          No              No        One year               No   \n",
       "2          No          No              No  Month-to-month              Yes   \n",
       "\n",
       "      PaymentMethod MonthlyCharges  TotalCharges Churn  \n",
       "0  Electronic check          29.85         29.85    No  \n",
       "1      Mailed check          56.95        1889.5    No  \n",
       "2      Mailed check          53.85        108.15   Yes  \n",
       "\n",
       "[3 rows x 21 columns]"
      ]
     },
     "execution_count": 2,
     "metadata": {},
     "output_type": "execute_result"
    }
   ],
   "source": [
    "df = pd.read_csv('/kaggle/input/telco-customer-churn/WA_Fn-UseC_-Telco-Customer-Churn.csv')\n",
    "print(f\"Rows: {df.shape[0]:,}\")\n",
    "print(f\"Cols: {df.shape[1]:,}\")\n",
    "df.head(3)"
   ]
  },
  {
   "cell_type": "code",
   "execution_count": 3,
   "id": "b287671f",
   "metadata": {
    "execution": {
     "iopub.execute_input": "2024-11-24T20:21:05.780308Z",
     "iopub.status.busy": "2024-11-24T20:21:05.779908Z",
     "iopub.status.idle": "2024-11-24T20:21:05.786666Z",
     "shell.execute_reply": "2024-11-24T20:21:05.785425Z"
    },
    "papermill": {
     "duration": 0.016236,
     "end_time": "2024-11-24T20:21:05.789492",
     "exception": false,
     "start_time": "2024-11-24T20:21:05.773256",
     "status": "completed"
    },
    "tags": []
   },
   "outputs": [
    {
     "name": "stdout",
     "output_type": "stream",
     "text": [
      "customerID           object\n",
      "gender               object\n",
      "SeniorCitizen         int64\n",
      "Partner              object\n",
      "Dependents           object\n",
      "tenure                int64\n",
      "PhoneService         object\n",
      "MultipleLines        object\n",
      "InternetService      object\n",
      "OnlineSecurity       object\n",
      "OnlineBackup         object\n",
      "DeviceProtection     object\n",
      "TechSupport          object\n",
      "StreamingTV          object\n",
      "StreamingMovies      object\n",
      "Contract             object\n",
      "PaperlessBilling     object\n",
      "PaymentMethod        object\n",
      "MonthlyCharges      float64\n",
      "TotalCharges         object\n",
      "Churn                object\n",
      "dtype: object\n"
     ]
    }
   ],
   "source": [
    "print(df.dtypes)"
   ]
  },
  {
   "cell_type": "markdown",
   "id": "a6f6cf8c",
   "metadata": {
    "papermill": {
     "duration": 0.005405,
     "end_time": "2024-11-24T20:21:05.800706",
     "exception": false,
     "start_time": "2024-11-24T20:21:05.795301",
     "status": "completed"
    },
    "tags": []
   },
   "source": [
    "# EDA"
   ]
  },
  {
   "cell_type": "markdown",
   "id": "1377600f",
   "metadata": {
    "papermill": {
     "duration": 0.006172,
     "end_time": "2024-11-24T20:21:05.812267",
     "exception": false,
     "start_time": "2024-11-24T20:21:05.806095",
     "status": "completed"
    },
    "tags": []
   },
   "source": [
    "Let's start by getting an overview on how balanced the target of our dataset is. "
   ]
  },
  {
   "cell_type": "code",
   "execution_count": 4,
   "id": "d66307dc",
   "metadata": {
    "execution": {
     "iopub.execute_input": "2024-11-24T20:21:05.825305Z",
     "iopub.status.busy": "2024-11-24T20:21:05.824938Z",
     "iopub.status.idle": "2024-11-24T20:21:05.845772Z",
     "shell.execute_reply": "2024-11-24T20:21:05.844629Z"
    },
    "papermill": {
     "duration": 0.03037,
     "end_time": "2024-11-24T20:21:05.848052",
     "exception": false,
     "start_time": "2024-11-24T20:21:05.817682",
     "status": "completed"
    },
    "tags": []
   },
   "outputs": [
    {
     "data": {
      "text/html": [
       "<div>\n",
       "<style scoped>\n",
       "    .dataframe tbody tr th:only-of-type {\n",
       "        vertical-align: middle;\n",
       "    }\n",
       "\n",
       "    .dataframe tbody tr th {\n",
       "        vertical-align: top;\n",
       "    }\n",
       "\n",
       "    .dataframe thead th {\n",
       "        text-align: right;\n",
       "    }\n",
       "</style>\n",
       "<table border=\"1\" class=\"dataframe\">\n",
       "  <thead>\n",
       "    <tr style=\"text-align: right;\">\n",
       "      <th></th>\n",
       "      <th>Count</th>\n",
       "      <th>Percentage (%)</th>\n",
       "    </tr>\n",
       "    <tr>\n",
       "      <th>Churn</th>\n",
       "      <th></th>\n",
       "      <th></th>\n",
       "    </tr>\n",
       "  </thead>\n",
       "  <tbody>\n",
       "    <tr>\n",
       "      <th>No</th>\n",
       "      <td>5174</td>\n",
       "      <td>73.463013</td>\n",
       "    </tr>\n",
       "    <tr>\n",
       "      <th>Yes</th>\n",
       "      <td>1869</td>\n",
       "      <td>26.536987</td>\n",
       "    </tr>\n",
       "  </tbody>\n",
       "</table>\n",
       "</div>"
      ],
      "text/plain": [
       "       Count  Percentage (%)\n",
       "Churn                       \n",
       "No      5174       73.463013\n",
       "Yes     1869       26.536987"
      ]
     },
     "execution_count": 4,
     "metadata": {},
     "output_type": "execute_result"
    }
   ],
   "source": [
    "value_counts = df['Churn'].value_counts()\n",
    "percentages = (value_counts / value_counts.sum()) * 100\n",
    "pd.DataFrame({\n",
    "    'Count': value_counts,\n",
    "    'Percentage (%)': percentages\n",
    "})"
   ]
  },
  {
   "cell_type": "markdown",
   "id": "79f8bbe2",
   "metadata": {
    "papermill": {
     "duration": 0.005332,
     "end_time": "2024-11-24T20:21:05.859327",
     "exception": false,
     "start_time": "2024-11-24T20:21:05.853995",
     "status": "completed"
    },
    "tags": []
   },
   "source": [
    "The dataset is fairly unbalanced with having only 1 out of four data points being churn and 3 our of 4 being not churn. "
   ]
  },
  {
   "cell_type": "code",
   "execution_count": null,
   "id": "5d1a00a5",
   "metadata": {
    "papermill": {
     "duration": 0.005304,
     "end_time": "2024-11-24T20:21:05.870164",
     "exception": false,
     "start_time": "2024-11-24T20:21:05.864860",
     "status": "completed"
    },
    "tags": []
   },
   "outputs": [],
   "source": []
  },
  {
   "cell_type": "markdown",
   "id": "9c900c35",
   "metadata": {
    "papermill": {
     "duration": 0.005329,
     "end_time": "2024-11-24T20:21:05.881044",
     "exception": false,
     "start_time": "2024-11-24T20:21:05.875715",
     "status": "completed"
    },
    "tags": []
   },
   "source": [
    "# Preprocessing "
   ]
  },
  {
   "cell_type": "code",
   "execution_count": 5,
   "id": "c050d103",
   "metadata": {
    "execution": {
     "iopub.execute_input": "2024-11-24T20:21:05.894507Z",
     "iopub.status.busy": "2024-11-24T20:21:05.894101Z",
     "iopub.status.idle": "2024-11-24T20:21:05.908427Z",
     "shell.execute_reply": "2024-11-24T20:21:05.907209Z"
    },
    "papermill": {
     "duration": 0.023982,
     "end_time": "2024-11-24T20:21:05.910765",
     "exception": false,
     "start_time": "2024-11-24T20:21:05.886783",
     "status": "completed"
    },
    "tags": []
   },
   "outputs": [
    {
     "data": {
      "text/html": [
       "<div>\n",
       "<style scoped>\n",
       "    .dataframe tbody tr th:only-of-type {\n",
       "        vertical-align: middle;\n",
       "    }\n",
       "\n",
       "    .dataframe tbody tr th {\n",
       "        vertical-align: top;\n",
       "    }\n",
       "\n",
       "    .dataframe thead th {\n",
       "        text-align: right;\n",
       "    }\n",
       "</style>\n",
       "<table border=\"1\" class=\"dataframe\">\n",
       "  <thead>\n",
       "    <tr style=\"text-align: right;\">\n",
       "      <th></th>\n",
       "      <th>Churn</th>\n",
       "      <th>churn_binary</th>\n",
       "    </tr>\n",
       "  </thead>\n",
       "  <tbody>\n",
       "    <tr>\n",
       "      <th>0</th>\n",
       "      <td>No</td>\n",
       "      <td>0</td>\n",
       "    </tr>\n",
       "    <tr>\n",
       "      <th>1</th>\n",
       "      <td>No</td>\n",
       "      <td>0</td>\n",
       "    </tr>\n",
       "    <tr>\n",
       "      <th>2</th>\n",
       "      <td>Yes</td>\n",
       "      <td>1</td>\n",
       "    </tr>\n",
       "    <tr>\n",
       "      <th>3</th>\n",
       "      <td>No</td>\n",
       "      <td>0</td>\n",
       "    </tr>\n",
       "    <tr>\n",
       "      <th>4</th>\n",
       "      <td>Yes</td>\n",
       "      <td>1</td>\n",
       "    </tr>\n",
       "  </tbody>\n",
       "</table>\n",
       "</div>"
      ],
      "text/plain": [
       "  Churn  churn_binary\n",
       "0    No             0\n",
       "1    No             0\n",
       "2   Yes             1\n",
       "3    No             0\n",
       "4   Yes             1"
      ]
     },
     "execution_count": 5,
     "metadata": {},
     "output_type": "execute_result"
    }
   ],
   "source": [
    "df['churn_binary'] = df['Churn'].map({'Yes': 1, 'No': 0})\n",
    "df[['Churn', 'churn_binary']].head(5)"
   ]
  },
  {
   "cell_type": "code",
   "execution_count": 6,
   "id": "82ae262f",
   "metadata": {
    "execution": {
     "iopub.execute_input": "2024-11-24T20:21:05.924953Z",
     "iopub.status.busy": "2024-11-24T20:21:05.924486Z",
     "iopub.status.idle": "2024-11-24T20:21:05.933845Z",
     "shell.execute_reply": "2024-11-24T20:21:05.932913Z"
    },
    "papermill": {
     "duration": 0.019188,
     "end_time": "2024-11-24T20:21:05.936003",
     "exception": false,
     "start_time": "2024-11-24T20:21:05.916815",
     "status": "completed"
    },
    "tags": []
   },
   "outputs": [],
   "source": [
    "df['TotalCharges'] = pd.to_numeric(df['TotalCharges'], errors='coerce')"
   ]
  },
  {
   "cell_type": "code",
   "execution_count": 7,
   "id": "b51ff0c2",
   "metadata": {
    "execution": {
     "iopub.execute_input": "2024-11-24T20:21:05.949790Z",
     "iopub.status.busy": "2024-11-24T20:21:05.949365Z",
     "iopub.status.idle": "2024-11-24T20:21:05.958702Z",
     "shell.execute_reply": "2024-11-24T20:21:05.957544Z"
    },
    "papermill": {
     "duration": 0.018641,
     "end_time": "2024-11-24T20:21:05.961027",
     "exception": false,
     "start_time": "2024-11-24T20:21:05.942386",
     "status": "completed"
    },
    "tags": []
   },
   "outputs": [
    {
     "data": {
      "text/plain": [
       "['SeniorCitizen', 'tenure', 'MonthlyCharges', 'TotalCharges']"
      ]
     },
     "execution_count": 7,
     "metadata": {},
     "output_type": "execute_result"
    }
   ],
   "source": [
    "numeric_columns = df.select_dtypes(include=['int64', 'float64']).columns.tolist()\n",
    "numeric_columns = [x for x in numeric_columns if x != 'churn_binary']\n",
    "numeric_columns"
   ]
  },
  {
   "cell_type": "code",
   "execution_count": 8,
   "id": "dd676ebf",
   "metadata": {
    "execution": {
     "iopub.execute_input": "2024-11-24T20:21:05.974726Z",
     "iopub.status.busy": "2024-11-24T20:21:05.974295Z",
     "iopub.status.idle": "2024-11-24T20:21:06.024096Z",
     "shell.execute_reply": "2024-11-24T20:21:06.022870Z"
    },
    "papermill": {
     "duration": 0.059417,
     "end_time": "2024-11-24T20:21:06.026448",
     "exception": false,
     "start_time": "2024-11-24T20:21:05.967031",
     "status": "completed"
    },
    "tags": []
   },
   "outputs": [
    {
     "data": {
      "text/html": [
       "<div>\n",
       "<style scoped>\n",
       "    .dataframe tbody tr th:only-of-type {\n",
       "        vertical-align: middle;\n",
       "    }\n",
       "\n",
       "    .dataframe tbody tr th {\n",
       "        vertical-align: top;\n",
       "    }\n",
       "\n",
       "    .dataframe thead th {\n",
       "        text-align: right;\n",
       "    }\n",
       "</style>\n",
       "<table border=\"1\" class=\"dataframe\">\n",
       "  <thead>\n",
       "    <tr style=\"text-align: right;\">\n",
       "      <th></th>\n",
       "      <th>gender_encoded</th>\n",
       "      <th>Partner_encoded</th>\n",
       "      <th>Dependents_encoded</th>\n",
       "      <th>PhoneService_encoded</th>\n",
       "      <th>MultipleLines_encoded</th>\n",
       "      <th>InternetService_encoded</th>\n",
       "      <th>OnlineSecurity_encoded</th>\n",
       "      <th>OnlineBackup_encoded</th>\n",
       "      <th>DeviceProtection_encoded</th>\n",
       "      <th>TechSupport_encoded</th>\n",
       "      <th>StreamingTV_encoded</th>\n",
       "      <th>StreamingMovies_encoded</th>\n",
       "      <th>Contract_encoded</th>\n",
       "      <th>PaperlessBilling_encoded</th>\n",
       "      <th>PaymentMethod_encoded</th>\n",
       "      <th>Churn_encoded</th>\n",
       "    </tr>\n",
       "  </thead>\n",
       "  <tbody>\n",
       "    <tr>\n",
       "      <th>0</th>\n",
       "      <td>0</td>\n",
       "      <td>1</td>\n",
       "      <td>0</td>\n",
       "      <td>0</td>\n",
       "      <td>1</td>\n",
       "      <td>0</td>\n",
       "      <td>0</td>\n",
       "      <td>2</td>\n",
       "      <td>0</td>\n",
       "      <td>0</td>\n",
       "      <td>0</td>\n",
       "      <td>0</td>\n",
       "      <td>0</td>\n",
       "      <td>1</td>\n",
       "      <td>2</td>\n",
       "      <td>0</td>\n",
       "    </tr>\n",
       "    <tr>\n",
       "      <th>1</th>\n",
       "      <td>1</td>\n",
       "      <td>0</td>\n",
       "      <td>0</td>\n",
       "      <td>1</td>\n",
       "      <td>0</td>\n",
       "      <td>0</td>\n",
       "      <td>2</td>\n",
       "      <td>0</td>\n",
       "      <td>2</td>\n",
       "      <td>0</td>\n",
       "      <td>0</td>\n",
       "      <td>0</td>\n",
       "      <td>1</td>\n",
       "      <td>0</td>\n",
       "      <td>3</td>\n",
       "      <td>0</td>\n",
       "    </tr>\n",
       "    <tr>\n",
       "      <th>2</th>\n",
       "      <td>1</td>\n",
       "      <td>0</td>\n",
       "      <td>0</td>\n",
       "      <td>1</td>\n",
       "      <td>0</td>\n",
       "      <td>0</td>\n",
       "      <td>2</td>\n",
       "      <td>2</td>\n",
       "      <td>0</td>\n",
       "      <td>0</td>\n",
       "      <td>0</td>\n",
       "      <td>0</td>\n",
       "      <td>0</td>\n",
       "      <td>1</td>\n",
       "      <td>3</td>\n",
       "      <td>1</td>\n",
       "    </tr>\n",
       "    <tr>\n",
       "      <th>3</th>\n",
       "      <td>1</td>\n",
       "      <td>0</td>\n",
       "      <td>0</td>\n",
       "      <td>0</td>\n",
       "      <td>1</td>\n",
       "      <td>0</td>\n",
       "      <td>2</td>\n",
       "      <td>0</td>\n",
       "      <td>2</td>\n",
       "      <td>2</td>\n",
       "      <td>0</td>\n",
       "      <td>0</td>\n",
       "      <td>1</td>\n",
       "      <td>0</td>\n",
       "      <td>0</td>\n",
       "      <td>0</td>\n",
       "    </tr>\n",
       "    <tr>\n",
       "      <th>4</th>\n",
       "      <td>0</td>\n",
       "      <td>0</td>\n",
       "      <td>0</td>\n",
       "      <td>1</td>\n",
       "      <td>0</td>\n",
       "      <td>1</td>\n",
       "      <td>0</td>\n",
       "      <td>0</td>\n",
       "      <td>0</td>\n",
       "      <td>0</td>\n",
       "      <td>0</td>\n",
       "      <td>0</td>\n",
       "      <td>0</td>\n",
       "      <td>1</td>\n",
       "      <td>2</td>\n",
       "      <td>1</td>\n",
       "    </tr>\n",
       "  </tbody>\n",
       "</table>\n",
       "</div>"
      ],
      "text/plain": [
       "   gender_encoded  Partner_encoded  Dependents_encoded  PhoneService_encoded  \\\n",
       "0               0                1                   0                     0   \n",
       "1               1                0                   0                     1   \n",
       "2               1                0                   0                     1   \n",
       "3               1                0                   0                     0   \n",
       "4               0                0                   0                     1   \n",
       "\n",
       "   MultipleLines_encoded  InternetService_encoded  OnlineSecurity_encoded  \\\n",
       "0                      1                        0                       0   \n",
       "1                      0                        0                       2   \n",
       "2                      0                        0                       2   \n",
       "3                      1                        0                       2   \n",
       "4                      0                        1                       0   \n",
       "\n",
       "   OnlineBackup_encoded  DeviceProtection_encoded  TechSupport_encoded  \\\n",
       "0                     2                         0                    0   \n",
       "1                     0                         2                    0   \n",
       "2                     2                         0                    0   \n",
       "3                     0                         2                    2   \n",
       "4                     0                         0                    0   \n",
       "\n",
       "   StreamingTV_encoded  StreamingMovies_encoded  Contract_encoded  \\\n",
       "0                    0                        0                 0   \n",
       "1                    0                        0                 1   \n",
       "2                    0                        0                 0   \n",
       "3                    0                        0                 1   \n",
       "4                    0                        0                 0   \n",
       "\n",
       "   PaperlessBilling_encoded  PaymentMethod_encoded  Churn_encoded  \n",
       "0                         1                      2              0  \n",
       "1                         0                      3              0  \n",
       "2                         1                      3              1  \n",
       "3                         0                      0              0  \n",
       "4                         1                      2              1  "
      ]
     },
     "execution_count": 8,
     "metadata": {},
     "output_type": "execute_result"
    }
   ],
   "source": [
    "# -------------------------- #\n",
    "# --- Apply LabelEncoder --- #\n",
    "# -------------------------- #\n",
    "\n",
    "object_columns = df.select_dtypes(include=['object']).columns\n",
    "label_encoded_columns = [] \n",
    "\n",
    "encoders = {}\n",
    "for column in object_columns:\n",
    "    if column == 'customerID': continue\n",
    "    le = LabelEncoder()\n",
    "\n",
    "    new_name = column + '_encoded'\n",
    "    df[new_name] = le.fit_transform(df[column])\n",
    "\n",
    "    label_encoded_columns.append(new_name)\n",
    "    \n",
    "    # Store the label encoders. \n",
    "    encoders[column] = le\n",
    "\n",
    "df[label_encoded_columns].head(5)"
   ]
  },
  {
   "cell_type": "code",
   "execution_count": null,
   "id": "7f5cb7c0",
   "metadata": {
    "papermill": {
     "duration": 0.005856,
     "end_time": "2024-11-24T20:21:06.038688",
     "exception": false,
     "start_time": "2024-11-24T20:21:06.032832",
     "status": "completed"
    },
    "tags": []
   },
   "outputs": [],
   "source": []
  },
  {
   "cell_type": "markdown",
   "id": "5ac244c3",
   "metadata": {
    "papermill": {
     "duration": 0.00588,
     "end_time": "2024-11-24T20:21:06.050595",
     "exception": false,
     "start_time": "2024-11-24T20:21:06.044715",
     "status": "completed"
    },
    "tags": []
   },
   "source": [
    "# Modeling "
   ]
  },
  {
   "cell_type": "code",
   "execution_count": 9,
   "id": "35e5f59d",
   "metadata": {
    "execution": {
     "iopub.execute_input": "2024-11-24T20:21:06.064586Z",
     "iopub.status.busy": "2024-11-24T20:21:06.064175Z",
     "iopub.status.idle": "2024-11-24T20:21:06.082329Z",
     "shell.execute_reply": "2024-11-24T20:21:06.081130Z"
    },
    "papermill": {
     "duration": 0.028155,
     "end_time": "2024-11-24T20:21:06.084962",
     "exception": false,
     "start_time": "2024-11-24T20:21:06.056807",
     "status": "completed"
    },
    "tags": []
   },
   "outputs": [
    {
     "data": {
      "text/plain": [
       "customerID                   0\n",
       "gender                       0\n",
       "SeniorCitizen                0\n",
       "Partner                      0\n",
       "Dependents                   0\n",
       "tenure                       0\n",
       "PhoneService                 0\n",
       "MultipleLines                0\n",
       "InternetService              0\n",
       "OnlineSecurity               0\n",
       "OnlineBackup                 0\n",
       "DeviceProtection             0\n",
       "TechSupport                  0\n",
       "StreamingTV                  0\n",
       "StreamingMovies              0\n",
       "Contract                     0\n",
       "PaperlessBilling             0\n",
       "PaymentMethod                0\n",
       "MonthlyCharges               0\n",
       "TotalCharges                11\n",
       "Churn                        0\n",
       "churn_binary                 0\n",
       "gender_encoded               0\n",
       "Partner_encoded              0\n",
       "Dependents_encoded           0\n",
       "PhoneService_encoded         0\n",
       "MultipleLines_encoded        0\n",
       "InternetService_encoded      0\n",
       "OnlineSecurity_encoded       0\n",
       "OnlineBackup_encoded         0\n",
       "DeviceProtection_encoded     0\n",
       "TechSupport_encoded          0\n",
       "StreamingTV_encoded          0\n",
       "StreamingMovies_encoded      0\n",
       "Contract_encoded             0\n",
       "PaperlessBilling_encoded     0\n",
       "PaymentMethod_encoded        0\n",
       "Churn_encoded                0\n",
       "dtype: int64"
      ]
     },
     "execution_count": 9,
     "metadata": {},
     "output_type": "execute_result"
    }
   ],
   "source": [
    "df.isna().sum()"
   ]
  },
  {
   "cell_type": "code",
   "execution_count": 10,
   "id": "54d858a6",
   "metadata": {
    "execution": {
     "iopub.execute_input": "2024-11-24T20:21:06.099817Z",
     "iopub.status.busy": "2024-11-24T20:21:06.098812Z",
     "iopub.status.idle": "2024-11-24T20:21:06.116746Z",
     "shell.execute_reply": "2024-11-24T20:21:06.115563Z"
    },
    "papermill": {
     "duration": 0.02815,
     "end_time": "2024-11-24T20:21:06.119418",
     "exception": false,
     "start_time": "2024-11-24T20:21:06.091268",
     "status": "completed"
    },
    "tags": []
   },
   "outputs": [],
   "source": [
    "df_cleaned = df.dropna()"
   ]
  },
  {
   "cell_type": "code",
   "execution_count": 11,
   "id": "a12b5b49",
   "metadata": {
    "execution": {
     "iopub.execute_input": "2024-11-24T20:21:06.134017Z",
     "iopub.status.busy": "2024-11-24T20:21:06.133609Z",
     "iopub.status.idle": "2024-11-24T20:21:06.142377Z",
     "shell.execute_reply": "2024-11-24T20:21:06.141441Z"
    },
    "papermill": {
     "duration": 0.018844,
     "end_time": "2024-11-24T20:21:06.144879",
     "exception": false,
     "start_time": "2024-11-24T20:21:06.126035",
     "status": "completed"
    },
    "tags": []
   },
   "outputs": [],
   "source": [
    "X = df_cleaned[label_encoded_columns + numeric_columns]\n",
    "y = df_cleaned['churn_binary']"
   ]
  },
  {
   "cell_type": "code",
   "execution_count": 12,
   "id": "0bdb7ab4",
   "metadata": {
    "execution": {
     "iopub.execute_input": "2024-11-24T20:21:06.159119Z",
     "iopub.status.busy": "2024-11-24T20:21:06.158727Z",
     "iopub.status.idle": "2024-11-24T20:21:06.172171Z",
     "shell.execute_reply": "2024-11-24T20:21:06.170918Z"
    },
    "papermill": {
     "duration": 0.023381,
     "end_time": "2024-11-24T20:21:06.174710",
     "exception": false,
     "start_time": "2024-11-24T20:21:06.151329",
     "status": "completed"
    },
    "tags": []
   },
   "outputs": [],
   "source": [
    "X_train, X_test, y_train, y_test = train_test_split(X, y, \n",
    "                                                    test_size=0.2, \n",
    "                                                    random_state=42)"
   ]
  },
  {
   "cell_type": "markdown",
   "id": "adc864cb",
   "metadata": {
    "papermill": {
     "duration": 0.006362,
     "end_time": "2024-11-24T20:21:06.187518",
     "exception": false,
     "start_time": "2024-11-24T20:21:06.181156",
     "status": "completed"
    },
    "tags": []
   },
   "source": [
    "## Linear Regression"
   ]
  },
  {
   "cell_type": "code",
   "execution_count": 13,
   "id": "1809b754",
   "metadata": {
    "execution": {
     "iopub.execute_input": "2024-11-24T20:21:06.202032Z",
     "iopub.status.busy": "2024-11-24T20:21:06.201634Z",
     "iopub.status.idle": "2024-11-24T20:21:06.279763Z",
     "shell.execute_reply": "2024-11-24T20:21:06.277808Z"
    },
    "papermill": {
     "duration": 0.099388,
     "end_time": "2024-11-24T20:21:06.293386",
     "exception": false,
     "start_time": "2024-11-24T20:21:06.193998",
     "status": "completed"
    },
    "tags": []
   },
   "outputs": [
    {
     "name": "stdout",
     "output_type": "stream",
     "text": [
      "                     Feature   Coefficient\n",
      "0             gender_encoded -1.129123e-16\n",
      "1            Partner_encoded -2.020953e-16\n",
      "2         Dependents_encoded  1.132851e-16\n",
      "3       PhoneService_encoded -5.447240e-16\n",
      "4      MultipleLines_encoded  2.414677e-16\n",
      "5    InternetService_encoded  2.724957e-16\n",
      "6     OnlineSecurity_encoded  9.569728e-17\n",
      "7       OnlineBackup_encoded -1.316091e-16\n",
      "8   DeviceProtection_encoded  1.385020e-17\n",
      "9        TechSupport_encoded  1.713039e-16\n",
      "10       StreamingTV_encoded  4.190674e-17\n",
      "11   StreamingMovies_encoded  4.067756e-17\n",
      "12          Contract_encoded -3.715681e-16\n",
      "13  PaperlessBilling_encoded -6.357753e-16\n",
      "14     PaymentMethod_encoded -1.724993e-17\n",
      "15             Churn_encoded  1.000000e+00\n",
      "16             SeniorCitizen -1.715312e-16\n",
      "17                    tenure  7.377996e-17\n",
      "18            MonthlyCharges -6.552647e-17\n",
      "19              TotalCharges -2.059984e-18\n"
     ]
    },
    {
     "data": {
      "text/plain": [
       "{'Mean Squared Error (MSE)': 2.64655185220035e-29, 'R-squared (R2)': 1.0}"
      ]
     },
     "execution_count": 13,
     "metadata": {},
     "output_type": "execute_result"
    }
   ],
   "source": [
    "linear_model = LinearRegression()\n",
    "linear_model.fit(X_train, y_train)\n",
    "\n",
    "y_pred = linear_model.predict(X_test)\n",
    "\n",
    "mse = mean_squared_error(y_test, y_pred)\n",
    "r2 = r2_score(y_test, y_pred)\n",
    "\n",
    "coefficients = pd.DataFrame({\n",
    "    'Feature': X.columns,\n",
    "    'Coefficient': linear_model.coef_\n",
    "})\n",
    "performance_metrics = {\n",
    "    \"Mean Squared Error (MSE)\": mse,\n",
    "    \"R-squared (R2)\": r2\n",
    "}\n",
    "\n",
    "print(coefficients)\n",
    "performance_metrics"
   ]
  },
  {
   "cell_type": "markdown",
   "id": "e561c250",
   "metadata": {
    "papermill": {
     "duration": 0.024513,
     "end_time": "2024-11-24T20:21:06.358461",
     "exception": false,
     "start_time": "2024-11-24T20:21:06.333948",
     "status": "completed"
    },
    "tags": []
   },
   "source": [
    "## Logistic Regression "
   ]
  },
  {
   "cell_type": "code",
   "execution_count": 14,
   "id": "6c0d562d",
   "metadata": {
    "execution": {
     "iopub.execute_input": "2024-11-24T20:21:06.385215Z",
     "iopub.status.busy": "2024-11-24T20:21:06.384845Z",
     "iopub.status.idle": "2024-11-24T20:21:06.675834Z",
     "shell.execute_reply": "2024-11-24T20:21:06.674403Z"
    },
    "papermill": {
     "duration": 0.306311,
     "end_time": "2024-11-24T20:21:06.682464",
     "exception": false,
     "start_time": "2024-11-24T20:21:06.376153",
     "status": "completed"
    },
    "tags": []
   },
   "outputs": [
    {
     "name": "stderr",
     "output_type": "stream",
     "text": [
      "/opt/conda/lib/python3.10/site-packages/sklearn/linear_model/_logistic.py:458: ConvergenceWarning: lbfgs failed to converge (status=1):\n",
      "STOP: TOTAL NO. of ITERATIONS REACHED LIMIT.\n",
      "\n",
      "Increase the number of iterations (max_iter) or scale the data as shown in:\n",
      "    https://scikit-learn.org/stable/modules/preprocessing.html\n",
      "Please also refer to the documentation for alternative solver options:\n",
      "    https://scikit-learn.org/stable/modules/linear_model.html#logistic-regression\n",
      "  n_iter_i = _check_optimize_result(\n"
     ]
    },
    {
     "data": {
      "text/plain": [
       "{'0': {'precision': 1.0, 'recall': 1.0, 'f1-score': 1.0, 'support': 1033},\n",
       " '1': {'precision': 1.0, 'recall': 1.0, 'f1-score': 1.0, 'support': 374},\n",
       " 'accuracy': 1.0,\n",
       " 'macro avg': {'precision': 1.0,\n",
       "  'recall': 1.0,\n",
       "  'f1-score': 1.0,\n",
       "  'support': 1407},\n",
       " 'weighted avg': {'precision': 1.0,\n",
       "  'recall': 1.0,\n",
       "  'f1-score': 1.0,\n",
       "  'support': 1407}}"
      ]
     },
     "execution_count": 14,
     "metadata": {},
     "output_type": "execute_result"
    }
   ],
   "source": [
    "model = LogisticRegression(max_iter=200)\n",
    "model.fit(X_train, y_train)\n",
    "\n",
    "y_pred = model.predict(X_test)\n",
    "\n",
    "report = classification_report(y_test, y_pred, output_dict=True)\n",
    "report"
   ]
  },
  {
   "cell_type": "markdown",
   "id": "07417349",
   "metadata": {
    "papermill": {
     "duration": 0.01906,
     "end_time": "2024-11-24T20:21:06.720529",
     "exception": false,
     "start_time": "2024-11-24T20:21:06.701469",
     "status": "completed"
    },
    "tags": []
   },
   "source": [
    "## Generalized Additive Model"
   ]
  },
  {
   "cell_type": "code",
   "execution_count": null,
   "id": "bcede998",
   "metadata": {
    "papermill": {
     "duration": 0.018335,
     "end_time": "2024-11-24T20:21:06.757513",
     "exception": false,
     "start_time": "2024-11-24T20:21:06.739178",
     "status": "completed"
    },
    "tags": []
   },
   "outputs": [],
   "source": []
  }
 ],
 "metadata": {
  "kaggle": {
   "accelerator": "none",
   "dataSources": [
    {
     "datasetId": 13996,
     "sourceId": 18858,
     "sourceType": "datasetVersion"
    }
   ],
   "dockerImageVersionId": 30786,
   "isGpuEnabled": false,
   "isInternetEnabled": true,
   "language": "python",
   "sourceType": "notebook"
  },
  "kernelspec": {
   "display_name": "Python 3",
   "language": "python",
   "name": "python3"
  },
  "language_info": {
   "codemirror_mode": {
    "name": "ipython",
    "version": 3
   },
   "file_extension": ".py",
   "mimetype": "text/x-python",
   "name": "python",
   "nbconvert_exporter": "python",
   "pygments_lexer": "ipython3",
   "version": "3.10.14"
  },
  "papermill": {
   "default_parameters": {},
   "duration": 8.252717,
   "end_time": "2024-11-24T20:21:07.492469",
   "environment_variables": {},
   "exception": null,
   "input_path": "__notebook__.ipynb",
   "output_path": "__notebook__.ipynb",
   "parameters": {},
   "start_time": "2024-11-24T20:20:59.239752",
   "version": "2.6.0"
  }
 },
 "nbformat": 4,
 "nbformat_minor": 5
}
