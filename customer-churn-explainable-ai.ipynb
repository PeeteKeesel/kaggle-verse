{
 "cells": [
  {
   "cell_type": "code",
   "execution_count": 1,
   "id": "b1a87c7a",
   "metadata": {
    "_cell_guid": "b1076dfc-b9ad-4769-8c92-a6c4dae69d19",
    "_uuid": "8f2839f25d086af736a60e9eeb907d3b93b6e0e5",
    "execution": {
     "iopub.execute_input": "2024-11-24T20:04:54.231283Z",
     "iopub.status.busy": "2024-11-24T20:04:54.230891Z",
     "iopub.status.idle": "2024-11-24T20:04:57.225507Z",
     "shell.execute_reply": "2024-11-24T20:04:57.224344Z"
    },
    "papermill": {
     "duration": 3.002268,
     "end_time": "2024-11-24T20:04:57.228170",
     "exception": false,
     "start_time": "2024-11-24T20:04:54.225902",
     "status": "completed"
    },
    "tags": []
   },
   "outputs": [
    {
     "name": "stdout",
     "output_type": "stream",
     "text": [
      "/kaggle/input/telco-customer-churn/WA_Fn-UseC_-Telco-Customer-Churn.csv\n"
     ]
    }
   ],
   "source": [
    "import os\n",
    "for dirname, _, filenames in os.walk('/kaggle/input'):\n",
    "    for filename in filenames:\n",
    "        print(os.path.join(dirname, filename))\n",
    "        \n",
    "import warnings\n",
    "warnings.filterwarnings(\"ignore\", category=FutureWarning)           \n",
    "\n",
    "import numpy as np\n",
    "import pandas as pd\n",
    "import matplotlib.pyplot as plt\n",
    "import seaborn as sns"
   ]
  },
  {
   "cell_type": "markdown",
   "id": "48a15287",
   "metadata": {
    "papermill": {
     "duration": 0.002756,
     "end_time": "2024-11-24T20:04:57.234318",
     "exception": false,
     "start_time": "2024-11-24T20:04:57.231562",
     "status": "completed"
    },
    "tags": []
   },
   "source": [
    "--- \n",
    "\n",
    "# 📊 Customer Churn 🤔 Explainable AI 🤖\n",
    "\n",
    "This notebook works with Kaggles [Telco Customer Churn dataset](https://www.kaggle.com/datasets/blastchar/telco-customer-churn/code) which focuses on customer retention programs. \n",
    "\n",
    "Note that I am working on this dataset as part of [Duke's Explainable AI Specialization](https://www.coursera.org/specializations/explainable-artificial-intelligence-xai?utm_medium=sem&utm_source=gg&utm_campaign=B2C_EMEA__coursera_FTCOF_career-academy_pmax-multiple-audiences-country-multi&campaignid=20858198824&adgroupid=&device=c&keyword=&matchtype=&network=x&devicemodel=&adposition=&creativeid=&hide_mobile_promo&gad_source=1&gclid=CjwKCAiA3Na5BhAZEiwAzrfagD0AmKcyNfdYYSiw0QGmJSw1OCpwp-8ftFFH1ScD1bI3hjLPyVTqixoCiqwQAvD_BwE) on Coursera. It is part of Course 2, Module 1. The tasks are described as: \n",
    "\n",
    "1. Exploratory Data Analysis to check Assumptions: Perform an exploratory analysis of the dataset to understand the relationships between different features and the target variable (churn). Use appropriate visualizations and statistical methods to determine whether assumptions about linear, logistic, and GAM models are met. \n",
    "2. Linear Regression: Treat the churn variable as a continuous variable (e.g., 0 for staying, 1 for churning) and build a linear regression model to predict churn. Interpret the coefficients and assess the model's performance.\n",
    "3. Logistic Regression: Treat churn as a binary variable and build a logistic regression model to predict the probability of churn. Interpret the coefficients.\n",
    "4. Generalized Additive Model (GAM): Build a GAM to model the non-linear relationships between customer features and churn. Interpret the GAM model. \n",
    "5. Model Comparison: Compare the performance and interpretability of the different models you built. Discuss the strengths and weaknesses of each approach and provide recommendations for which model(s) the telecommunications company should use to address their customer churn problem."
   ]
  },
  {
   "cell_type": "code",
   "execution_count": 2,
   "id": "a913ec6f",
   "metadata": {
    "execution": {
     "iopub.execute_input": "2024-11-24T20:04:57.241949Z",
     "iopub.status.busy": "2024-11-24T20:04:57.241433Z",
     "iopub.status.idle": "2024-11-24T20:04:57.339534Z",
     "shell.execute_reply": "2024-11-24T20:04:57.338399Z"
    },
    "papermill": {
     "duration": 0.104675,
     "end_time": "2024-11-24T20:04:57.341946",
     "exception": false,
     "start_time": "2024-11-24T20:04:57.237271",
     "status": "completed"
    },
    "tags": []
   },
   "outputs": [
    {
     "name": "stdout",
     "output_type": "stream",
     "text": [
      "Rows: 7,043\n",
      "Cols: 21\n"
     ]
    },
    {
     "data": {
      "text/html": [
       "<div>\n",
       "<style scoped>\n",
       "    .dataframe tbody tr th:only-of-type {\n",
       "        vertical-align: middle;\n",
       "    }\n",
       "\n",
       "    .dataframe tbody tr th {\n",
       "        vertical-align: top;\n",
       "    }\n",
       "\n",
       "    .dataframe thead th {\n",
       "        text-align: right;\n",
       "    }\n",
       "</style>\n",
       "<table border=\"1\" class=\"dataframe\">\n",
       "  <thead>\n",
       "    <tr style=\"text-align: right;\">\n",
       "      <th></th>\n",
       "      <th>customerID</th>\n",
       "      <th>gender</th>\n",
       "      <th>SeniorCitizen</th>\n",
       "      <th>Partner</th>\n",
       "      <th>Dependents</th>\n",
       "      <th>tenure</th>\n",
       "      <th>PhoneService</th>\n",
       "      <th>MultipleLines</th>\n",
       "      <th>InternetService</th>\n",
       "      <th>OnlineSecurity</th>\n",
       "      <th>...</th>\n",
       "      <th>DeviceProtection</th>\n",
       "      <th>TechSupport</th>\n",
       "      <th>StreamingTV</th>\n",
       "      <th>StreamingMovies</th>\n",
       "      <th>Contract</th>\n",
       "      <th>PaperlessBilling</th>\n",
       "      <th>PaymentMethod</th>\n",
       "      <th>MonthlyCharges</th>\n",
       "      <th>TotalCharges</th>\n",
       "      <th>Churn</th>\n",
       "    </tr>\n",
       "  </thead>\n",
       "  <tbody>\n",
       "    <tr>\n",
       "      <th>0</th>\n",
       "      <td>7590-VHVEG</td>\n",
       "      <td>Female</td>\n",
       "      <td>0</td>\n",
       "      <td>Yes</td>\n",
       "      <td>No</td>\n",
       "      <td>1</td>\n",
       "      <td>No</td>\n",
       "      <td>No phone service</td>\n",
       "      <td>DSL</td>\n",
       "      <td>No</td>\n",
       "      <td>...</td>\n",
       "      <td>No</td>\n",
       "      <td>No</td>\n",
       "      <td>No</td>\n",
       "      <td>No</td>\n",
       "      <td>Month-to-month</td>\n",
       "      <td>Yes</td>\n",
       "      <td>Electronic check</td>\n",
       "      <td>29.85</td>\n",
       "      <td>29.85</td>\n",
       "      <td>No</td>\n",
       "    </tr>\n",
       "    <tr>\n",
       "      <th>1</th>\n",
       "      <td>5575-GNVDE</td>\n",
       "      <td>Male</td>\n",
       "      <td>0</td>\n",
       "      <td>No</td>\n",
       "      <td>No</td>\n",
       "      <td>34</td>\n",
       "      <td>Yes</td>\n",
       "      <td>No</td>\n",
       "      <td>DSL</td>\n",
       "      <td>Yes</td>\n",
       "      <td>...</td>\n",
       "      <td>Yes</td>\n",
       "      <td>No</td>\n",
       "      <td>No</td>\n",
       "      <td>No</td>\n",
       "      <td>One year</td>\n",
       "      <td>No</td>\n",
       "      <td>Mailed check</td>\n",
       "      <td>56.95</td>\n",
       "      <td>1889.5</td>\n",
       "      <td>No</td>\n",
       "    </tr>\n",
       "    <tr>\n",
       "      <th>2</th>\n",
       "      <td>3668-QPYBK</td>\n",
       "      <td>Male</td>\n",
       "      <td>0</td>\n",
       "      <td>No</td>\n",
       "      <td>No</td>\n",
       "      <td>2</td>\n",
       "      <td>Yes</td>\n",
       "      <td>No</td>\n",
       "      <td>DSL</td>\n",
       "      <td>Yes</td>\n",
       "      <td>...</td>\n",
       "      <td>No</td>\n",
       "      <td>No</td>\n",
       "      <td>No</td>\n",
       "      <td>No</td>\n",
       "      <td>Month-to-month</td>\n",
       "      <td>Yes</td>\n",
       "      <td>Mailed check</td>\n",
       "      <td>53.85</td>\n",
       "      <td>108.15</td>\n",
       "      <td>Yes</td>\n",
       "    </tr>\n",
       "  </tbody>\n",
       "</table>\n",
       "<p>3 rows × 21 columns</p>\n",
       "</div>"
      ],
      "text/plain": [
       "   customerID  gender  SeniorCitizen Partner Dependents  tenure PhoneService  \\\n",
       "0  7590-VHVEG  Female              0     Yes         No       1           No   \n",
       "1  5575-GNVDE    Male              0      No         No      34          Yes   \n",
       "2  3668-QPYBK    Male              0      No         No       2          Yes   \n",
       "\n",
       "      MultipleLines InternetService OnlineSecurity  ... DeviceProtection  \\\n",
       "0  No phone service             DSL             No  ...               No   \n",
       "1                No             DSL            Yes  ...              Yes   \n",
       "2                No             DSL            Yes  ...               No   \n",
       "\n",
       "  TechSupport StreamingTV StreamingMovies        Contract PaperlessBilling  \\\n",
       "0          No          No              No  Month-to-month              Yes   \n",
       "1          No          No              No        One year               No   \n",
       "2          No          No              No  Month-to-month              Yes   \n",
       "\n",
       "      PaymentMethod MonthlyCharges  TotalCharges Churn  \n",
       "0  Electronic check          29.85         29.85    No  \n",
       "1      Mailed check          56.95        1889.5    No  \n",
       "2      Mailed check          53.85        108.15   Yes  \n",
       "\n",
       "[3 rows x 21 columns]"
      ]
     },
     "execution_count": 2,
     "metadata": {},
     "output_type": "execute_result"
    }
   ],
   "source": [
    "df = pd.read_csv('/kaggle/input/telco-customer-churn/WA_Fn-UseC_-Telco-Customer-Churn.csv')\n",
    "print(f\"Rows: {df.shape[0]:,}\")\n",
    "print(f\"Cols: {df.shape[1]:,}\")\n",
    "df.head(3)"
   ]
  },
  {
   "cell_type": "code",
   "execution_count": 3,
   "id": "11cbc051",
   "metadata": {
    "execution": {
     "iopub.execute_input": "2024-11-24T20:04:57.350589Z",
     "iopub.status.busy": "2024-11-24T20:04:57.350192Z",
     "iopub.status.idle": "2024-11-24T20:04:57.357071Z",
     "shell.execute_reply": "2024-11-24T20:04:57.355746Z"
    },
    "papermill": {
     "duration": 0.013884,
     "end_time": "2024-11-24T20:04:57.359412",
     "exception": false,
     "start_time": "2024-11-24T20:04:57.345528",
     "status": "completed"
    },
    "tags": []
   },
   "outputs": [
    {
     "name": "stdout",
     "output_type": "stream",
     "text": [
      "customerID           object\n",
      "gender               object\n",
      "SeniorCitizen         int64\n",
      "Partner              object\n",
      "Dependents           object\n",
      "tenure                int64\n",
      "PhoneService         object\n",
      "MultipleLines        object\n",
      "InternetService      object\n",
      "OnlineSecurity       object\n",
      "OnlineBackup         object\n",
      "DeviceProtection     object\n",
      "TechSupport          object\n",
      "StreamingTV          object\n",
      "StreamingMovies      object\n",
      "Contract             object\n",
      "PaperlessBilling     object\n",
      "PaymentMethod        object\n",
      "MonthlyCharges      float64\n",
      "TotalCharges         object\n",
      "Churn                object\n",
      "dtype: object\n"
     ]
    }
   ],
   "source": [
    "print(df.dtypes)"
   ]
  },
  {
   "cell_type": "markdown",
   "id": "eaeedf99",
   "metadata": {
    "papermill": {
     "duration": 0.003182,
     "end_time": "2024-11-24T20:04:57.366056",
     "exception": false,
     "start_time": "2024-11-24T20:04:57.362874",
     "status": "completed"
    },
    "tags": []
   },
   "source": [
    "# EDA"
   ]
  },
  {
   "cell_type": "markdown",
   "id": "5ac436f6",
   "metadata": {
    "papermill": {
     "duration": 0.003038,
     "end_time": "2024-11-24T20:04:57.372515",
     "exception": false,
     "start_time": "2024-11-24T20:04:57.369477",
     "status": "completed"
    },
    "tags": []
   },
   "source": [
    "Let's start by getting an overview on how balanced the target of our dataset is. "
   ]
  },
  {
   "cell_type": "code",
   "execution_count": 4,
   "id": "9a32b515",
   "metadata": {
    "execution": {
     "iopub.execute_input": "2024-11-24T20:04:57.380814Z",
     "iopub.status.busy": "2024-11-24T20:04:57.380325Z",
     "iopub.status.idle": "2024-11-24T20:04:57.399927Z",
     "shell.execute_reply": "2024-11-24T20:04:57.398773Z"
    },
    "papermill": {
     "duration": 0.026439,
     "end_time": "2024-11-24T20:04:57.402235",
     "exception": false,
     "start_time": "2024-11-24T20:04:57.375796",
     "status": "completed"
    },
    "tags": []
   },
   "outputs": [
    {
     "data": {
      "text/html": [
       "<div>\n",
       "<style scoped>\n",
       "    .dataframe tbody tr th:only-of-type {\n",
       "        vertical-align: middle;\n",
       "    }\n",
       "\n",
       "    .dataframe tbody tr th {\n",
       "        vertical-align: top;\n",
       "    }\n",
       "\n",
       "    .dataframe thead th {\n",
       "        text-align: right;\n",
       "    }\n",
       "</style>\n",
       "<table border=\"1\" class=\"dataframe\">\n",
       "  <thead>\n",
       "    <tr style=\"text-align: right;\">\n",
       "      <th></th>\n",
       "      <th>Count</th>\n",
       "      <th>Percentage (%)</th>\n",
       "    </tr>\n",
       "    <tr>\n",
       "      <th>Churn</th>\n",
       "      <th></th>\n",
       "      <th></th>\n",
       "    </tr>\n",
       "  </thead>\n",
       "  <tbody>\n",
       "    <tr>\n",
       "      <th>No</th>\n",
       "      <td>5174</td>\n",
       "      <td>73.463013</td>\n",
       "    </tr>\n",
       "    <tr>\n",
       "      <th>Yes</th>\n",
       "      <td>1869</td>\n",
       "      <td>26.536987</td>\n",
       "    </tr>\n",
       "  </tbody>\n",
       "</table>\n",
       "</div>"
      ],
      "text/plain": [
       "       Count  Percentage (%)\n",
       "Churn                       \n",
       "No      5174       73.463013\n",
       "Yes     1869       26.536987"
      ]
     },
     "execution_count": 4,
     "metadata": {},
     "output_type": "execute_result"
    }
   ],
   "source": [
    "value_counts = df['Churn'].value_counts()\n",
    "percentages = (value_counts / value_counts.sum()) * 100\n",
    "pd.DataFrame({\n",
    "    'Count': value_counts,\n",
    "    'Percentage (%)': percentages\n",
    "})"
   ]
  },
  {
   "cell_type": "markdown",
   "id": "92582178",
   "metadata": {
    "papermill": {
     "duration": 0.003295,
     "end_time": "2024-11-24T20:04:57.409289",
     "exception": false,
     "start_time": "2024-11-24T20:04:57.405994",
     "status": "completed"
    },
    "tags": []
   },
   "source": [
    "The dataset is fairly unbalanced with having only 1 out of four data points being churn and 3 our of 4 being not churn. "
   ]
  },
  {
   "cell_type": "code",
   "execution_count": null,
   "id": "851c875b",
   "metadata": {
    "papermill": {
     "duration": 0.003394,
     "end_time": "2024-11-24T20:04:57.416709",
     "exception": false,
     "start_time": "2024-11-24T20:04:57.413315",
     "status": "completed"
    },
    "tags": []
   },
   "outputs": [],
   "source": []
  },
  {
   "cell_type": "markdown",
   "id": "b50b3a0b",
   "metadata": {
    "papermill": {
     "duration": 0.003239,
     "end_time": "2024-11-24T20:04:57.423413",
     "exception": false,
     "start_time": "2024-11-24T20:04:57.420174",
     "status": "completed"
    },
    "tags": []
   },
   "source": [
    "# Preprocessing "
   ]
  },
  {
   "cell_type": "code",
   "execution_count": 5,
   "id": "4aa3d5e1",
   "metadata": {
    "execution": {
     "iopub.execute_input": "2024-11-24T20:04:57.432152Z",
     "iopub.status.busy": "2024-11-24T20:04:57.431747Z",
     "iopub.status.idle": "2024-11-24T20:04:57.446050Z",
     "shell.execute_reply": "2024-11-24T20:04:57.444917Z"
    },
    "papermill": {
     "duration": 0.021628,
     "end_time": "2024-11-24T20:04:57.448508",
     "exception": false,
     "start_time": "2024-11-24T20:04:57.426880",
     "status": "completed"
    },
    "tags": []
   },
   "outputs": [
    {
     "data": {
      "text/html": [
       "<div>\n",
       "<style scoped>\n",
       "    .dataframe tbody tr th:only-of-type {\n",
       "        vertical-align: middle;\n",
       "    }\n",
       "\n",
       "    .dataframe tbody tr th {\n",
       "        vertical-align: top;\n",
       "    }\n",
       "\n",
       "    .dataframe thead th {\n",
       "        text-align: right;\n",
       "    }\n",
       "</style>\n",
       "<table border=\"1\" class=\"dataframe\">\n",
       "  <thead>\n",
       "    <tr style=\"text-align: right;\">\n",
       "      <th></th>\n",
       "      <th>Churn</th>\n",
       "      <th>churn_binary</th>\n",
       "    </tr>\n",
       "  </thead>\n",
       "  <tbody>\n",
       "    <tr>\n",
       "      <th>0</th>\n",
       "      <td>No</td>\n",
       "      <td>0</td>\n",
       "    </tr>\n",
       "    <tr>\n",
       "      <th>1</th>\n",
       "      <td>No</td>\n",
       "      <td>0</td>\n",
       "    </tr>\n",
       "    <tr>\n",
       "      <th>2</th>\n",
       "      <td>Yes</td>\n",
       "      <td>1</td>\n",
       "    </tr>\n",
       "    <tr>\n",
       "      <th>3</th>\n",
       "      <td>No</td>\n",
       "      <td>0</td>\n",
       "    </tr>\n",
       "    <tr>\n",
       "      <th>4</th>\n",
       "      <td>Yes</td>\n",
       "      <td>1</td>\n",
       "    </tr>\n",
       "  </tbody>\n",
       "</table>\n",
       "</div>"
      ],
      "text/plain": [
       "  Churn  churn_binary\n",
       "0    No             0\n",
       "1    No             0\n",
       "2   Yes             1\n",
       "3    No             0\n",
       "4   Yes             1"
      ]
     },
     "execution_count": 5,
     "metadata": {},
     "output_type": "execute_result"
    }
   ],
   "source": [
    "df['churn_binary'] = df['Churn'].map({'Yes': 1, 'No': 0})\n",
    "df[['Churn', 'churn_binary']].head(5)"
   ]
  },
  {
   "cell_type": "code",
   "execution_count": null,
   "id": "68fcede3",
   "metadata": {
    "papermill": {
     "duration": 0.003378,
     "end_time": "2024-11-24T20:04:57.456634",
     "exception": false,
     "start_time": "2024-11-24T20:04:57.453256",
     "status": "completed"
    },
    "tags": []
   },
   "outputs": [],
   "source": []
  }
 ],
 "metadata": {
  "kaggle": {
   "accelerator": "none",
   "dataSources": [
    {
     "datasetId": 13996,
     "sourceId": 18858,
     "sourceType": "datasetVersion"
    }
   ],
   "dockerImageVersionId": 30786,
   "isGpuEnabled": false,
   "isInternetEnabled": true,
   "language": "python",
   "sourceType": "notebook"
  },
  "kernelspec": {
   "display_name": "Python 3",
   "language": "python",
   "name": "python3"
  },
  "language_info": {
   "codemirror_mode": {
    "name": "ipython",
    "version": 3
   },
   "file_extension": ".py",
   "mimetype": "text/x-python",
   "name": "python",
   "nbconvert_exporter": "python",
   "pygments_lexer": "ipython3",
   "version": "3.10.14"
  },
  "papermill": {
   "default_parameters": {},
   "duration": 6.876913,
   "end_time": "2024-11-24T20:04:58.082612",
   "environment_variables": {},
   "exception": null,
   "input_path": "__notebook__.ipynb",
   "output_path": "__notebook__.ipynb",
   "parameters": {},
   "start_time": "2024-11-24T20:04:51.205699",
   "version": "2.6.0"
  }
 },
 "nbformat": 4,
 "nbformat_minor": 5
}
