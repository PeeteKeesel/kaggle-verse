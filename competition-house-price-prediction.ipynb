{
 "cells": [
  {
   "cell_type": "code",
   "execution_count": 1,
   "id": "3161c467",
   "metadata": {
    "_cell_guid": "b1076dfc-b9ad-4769-8c92-a6c4dae69d19",
    "_uuid": "8f2839f25d086af736a60e9eeb907d3b93b6e0e5",
    "execution": {
     "iopub.execute_input": "2024-09-16T12:38:47.631200Z",
     "iopub.status.busy": "2024-09-16T12:38:47.630656Z",
     "iopub.status.idle": "2024-09-16T12:38:51.030239Z",
     "shell.execute_reply": "2024-09-16T12:38:51.029186Z"
    },
    "papermill": {
     "duration": 3.414195,
     "end_time": "2024-09-16T12:38:51.033131",
     "exception": false,
     "start_time": "2024-09-16T12:38:47.618936",
     "status": "completed"
    },
    "tags": []
   },
   "outputs": [
    {
     "name": "stdout",
     "output_type": "stream",
     "text": [
      "/kaggle/input/house-prices-advanced-regression-techniques/sample_submission.csv\n",
      "/kaggle/input/house-prices-advanced-regression-techniques/data_description.txt\n",
      "/kaggle/input/house-prices-advanced-regression-techniques/train.csv\n",
      "/kaggle/input/house-prices-advanced-regression-techniques/test.csv\n"
     ]
    }
   ],
   "source": [
    "import os\n",
    "for dirname, _, filenames in os.walk('/kaggle/input'):\n",
    "    for filename in filenames:\n",
    "        print(os.path.join(dirname, filename))\n",
    "        \n",
    "import pandas as pd\n",
    "import numpy as np\n",
    "import matplotlib.pyplot as plt\n",
    "import seaborn as sns\n",
    "import matplotlib.ticker as ticker\n",
    "\n",
    "from mpl_toolkits.axes_grid1 import make_axes_locatable\n",
    "\n",
    "sns.set_context(\"paper\")"
   ]
  },
  {
   "cell_type": "markdown",
   "id": "db7d50a1",
   "metadata": {
    "papermill": {
     "duration": 0.009164,
     "end_time": "2024-09-16T12:38:51.051810",
     "exception": false,
     "start_time": "2024-09-16T12:38:51.042646",
     "status": "completed"
    },
    "tags": []
   },
   "source": [
    "# 🔥Competition 🏆 House Price Prediction🏡\n",
    "\n",
    "This notebooks builds models for Kaggles [Houses Prices 🏡 competition](https://www.kaggle.com/competitions/house-prices-advanced-regression-techniques). The objective is to develop a model which predicts the `SalePrice` of a a house. The submission evaluation metric is the _Root Mean Squared Error_ ([RMSE](https://en.wikipedia.org/wiki/Root_mean_square_deviation)) between the logarithm of the predicted value and the logarithm of the observed sales price. The format of the submission file `submission.csv` should be as follows: \n",
    "```\n",
    "    Id,SalePrice\n",
    "    1461,169000.1\n",
    "    1462,187724.1233\n",
    "    1463,175221\n",
    "    etc.\n",
    "```"
   ]
  },
  {
   "cell_type": "code",
   "execution_count": 2,
   "id": "2614c7b1",
   "metadata": {
    "execution": {
     "iopub.execute_input": "2024-09-16T12:38:51.073117Z",
     "iopub.status.busy": "2024-09-16T12:38:51.072536Z",
     "iopub.status.idle": "2024-09-16T12:38:51.164132Z",
     "shell.execute_reply": "2024-09-16T12:38:51.162933Z"
    },
    "papermill": {
     "duration": 0.105459,
     "end_time": "2024-09-16T12:38:51.166831",
     "exception": false,
     "start_time": "2024-09-16T12:38:51.061372",
     "status": "completed"
    },
    "tags": []
   },
   "outputs": [
    {
     "name": "stdout",
     "output_type": "stream",
     "text": [
      "Rows: 1,460\n",
      "Cols: 81\n"
     ]
    },
    {
     "data": {
      "text/html": [
       "<div>\n",
       "<style scoped>\n",
       "    .dataframe tbody tr th:only-of-type {\n",
       "        vertical-align: middle;\n",
       "    }\n",
       "\n",
       "    .dataframe tbody tr th {\n",
       "        vertical-align: top;\n",
       "    }\n",
       "\n",
       "    .dataframe thead th {\n",
       "        text-align: right;\n",
       "    }\n",
       "</style>\n",
       "<table border=\"1\" class=\"dataframe\">\n",
       "  <thead>\n",
       "    <tr style=\"text-align: right;\">\n",
       "      <th></th>\n",
       "      <th>Id</th>\n",
       "      <th>MSSubClass</th>\n",
       "      <th>MSZoning</th>\n",
       "      <th>LotFrontage</th>\n",
       "      <th>LotArea</th>\n",
       "      <th>Street</th>\n",
       "      <th>Alley</th>\n",
       "      <th>LotShape</th>\n",
       "      <th>LandContour</th>\n",
       "      <th>Utilities</th>\n",
       "      <th>...</th>\n",
       "      <th>PoolArea</th>\n",
       "      <th>PoolQC</th>\n",
       "      <th>Fence</th>\n",
       "      <th>MiscFeature</th>\n",
       "      <th>MiscVal</th>\n",
       "      <th>MoSold</th>\n",
       "      <th>YrSold</th>\n",
       "      <th>SaleType</th>\n",
       "      <th>SaleCondition</th>\n",
       "      <th>SalePrice</th>\n",
       "    </tr>\n",
       "  </thead>\n",
       "  <tbody>\n",
       "    <tr>\n",
       "      <th>0</th>\n",
       "      <td>1</td>\n",
       "      <td>60</td>\n",
       "      <td>RL</td>\n",
       "      <td>65.0</td>\n",
       "      <td>8450</td>\n",
       "      <td>Pave</td>\n",
       "      <td>NaN</td>\n",
       "      <td>Reg</td>\n",
       "      <td>Lvl</td>\n",
       "      <td>AllPub</td>\n",
       "      <td>...</td>\n",
       "      <td>0</td>\n",
       "      <td>NaN</td>\n",
       "      <td>NaN</td>\n",
       "      <td>NaN</td>\n",
       "      <td>0</td>\n",
       "      <td>2</td>\n",
       "      <td>2008</td>\n",
       "      <td>WD</td>\n",
       "      <td>Normal</td>\n",
       "      <td>208500</td>\n",
       "    </tr>\n",
       "    <tr>\n",
       "      <th>1</th>\n",
       "      <td>2</td>\n",
       "      <td>20</td>\n",
       "      <td>RL</td>\n",
       "      <td>80.0</td>\n",
       "      <td>9600</td>\n",
       "      <td>Pave</td>\n",
       "      <td>NaN</td>\n",
       "      <td>Reg</td>\n",
       "      <td>Lvl</td>\n",
       "      <td>AllPub</td>\n",
       "      <td>...</td>\n",
       "      <td>0</td>\n",
       "      <td>NaN</td>\n",
       "      <td>NaN</td>\n",
       "      <td>NaN</td>\n",
       "      <td>0</td>\n",
       "      <td>5</td>\n",
       "      <td>2007</td>\n",
       "      <td>WD</td>\n",
       "      <td>Normal</td>\n",
       "      <td>181500</td>\n",
       "    </tr>\n",
       "    <tr>\n",
       "      <th>2</th>\n",
       "      <td>3</td>\n",
       "      <td>60</td>\n",
       "      <td>RL</td>\n",
       "      <td>68.0</td>\n",
       "      <td>11250</td>\n",
       "      <td>Pave</td>\n",
       "      <td>NaN</td>\n",
       "      <td>IR1</td>\n",
       "      <td>Lvl</td>\n",
       "      <td>AllPub</td>\n",
       "      <td>...</td>\n",
       "      <td>0</td>\n",
       "      <td>NaN</td>\n",
       "      <td>NaN</td>\n",
       "      <td>NaN</td>\n",
       "      <td>0</td>\n",
       "      <td>9</td>\n",
       "      <td>2008</td>\n",
       "      <td>WD</td>\n",
       "      <td>Normal</td>\n",
       "      <td>223500</td>\n",
       "    </tr>\n",
       "  </tbody>\n",
       "</table>\n",
       "<p>3 rows × 81 columns</p>\n",
       "</div>"
      ],
      "text/plain": [
       "   Id  MSSubClass MSZoning  LotFrontage  LotArea Street Alley LotShape  \\\n",
       "0   1          60       RL         65.0     8450   Pave   NaN      Reg   \n",
       "1   2          20       RL         80.0     9600   Pave   NaN      Reg   \n",
       "2   3          60       RL         68.0    11250   Pave   NaN      IR1   \n",
       "\n",
       "  LandContour Utilities  ... PoolArea PoolQC Fence MiscFeature MiscVal MoSold  \\\n",
       "0         Lvl    AllPub  ...        0    NaN   NaN         NaN       0      2   \n",
       "1         Lvl    AllPub  ...        0    NaN   NaN         NaN       0      5   \n",
       "2         Lvl    AllPub  ...        0    NaN   NaN         NaN       0      9   \n",
       "\n",
       "  YrSold  SaleType  SaleCondition  SalePrice  \n",
       "0   2008        WD         Normal     208500  \n",
       "1   2007        WD         Normal     181500  \n",
       "2   2008        WD         Normal     223500  \n",
       "\n",
       "[3 rows x 81 columns]"
      ]
     },
     "execution_count": 2,
     "metadata": {},
     "output_type": "execute_result"
    }
   ],
   "source": [
    "houses = pd.read_csv('/kaggle/input/house-prices-advanced-regression-techniques/train.csv')\n",
    "print(f\"Rows: {houses.shape[0]:,}\")\n",
    "print(f\"Cols: {houses.shape[1]:,}\")\n",
    "houses.head(3)"
   ]
  },
  {
   "cell_type": "code",
   "execution_count": 3,
   "id": "70170baf",
   "metadata": {
    "execution": {
     "iopub.execute_input": "2024-09-16T12:38:51.188229Z",
     "iopub.status.busy": "2024-09-16T12:38:51.187816Z",
     "iopub.status.idle": "2024-09-16T12:38:51.192887Z",
     "shell.execute_reply": "2024-09-16T12:38:51.191662Z"
    },
    "papermill": {
     "duration": 0.01897,
     "end_time": "2024-09-16T12:38:51.195733",
     "exception": false,
     "start_time": "2024-09-16T12:38:51.176763",
     "status": "completed"
    },
    "tags": []
   },
   "outputs": [],
   "source": [
    "RANDOM_STATE = 42"
   ]
  },
  {
   "cell_type": "markdown",
   "id": "27ea9058",
   "metadata": {
    "papermill": {
     "duration": 0.00951,
     "end_time": "2024-09-16T12:38:51.215212",
     "exception": false,
     "start_time": "2024-09-16T12:38:51.205702",
     "status": "completed"
    },
    "tags": []
   },
   "source": [
    "# General Overview"
   ]
  },
  {
   "cell_type": "code",
   "execution_count": 4,
   "id": "12662bd0",
   "metadata": {
    "execution": {
     "iopub.execute_input": "2024-09-16T12:38:51.237253Z",
     "iopub.status.busy": "2024-09-16T12:38:51.236405Z",
     "iopub.status.idle": "2024-09-16T12:38:51.248946Z",
     "shell.execute_reply": "2024-09-16T12:38:51.247672Z"
    },
    "papermill": {
     "duration": 0.027076,
     "end_time": "2024-09-16T12:38:51.252209",
     "exception": false,
     "start_time": "2024-09-16T12:38:51.225133",
     "status": "completed"
    },
    "tags": []
   },
   "outputs": [
    {
     "name": "stdout",
     "output_type": "stream",
     "text": [
      "There are  35 columns of type int64:\n",
      "['Id', 'MSSubClass', 'LotArea', 'OverallQual', 'OverallCond', 'YearBuilt', 'YearRemodAdd', 'BsmtFinSF1', 'BsmtFinSF2', 'BsmtUnfSF', 'TotalBsmtSF', '1stFlrSF', '2ndFlrSF', 'LowQualFinSF', 'GrLivArea', 'BsmtFullBath', 'BsmtHalfBath', 'FullBath', 'HalfBath', 'BedroomAbvGr', 'KitchenAbvGr', 'TotRmsAbvGrd', 'Fireplaces', 'GarageCars', 'GarageArea', 'WoodDeckSF', 'OpenPorchSF', 'EnclosedPorch', '3SsnPorch', 'ScreenPorch', 'PoolArea', 'MiscVal', 'MoSold', 'YrSold', 'SalePrice']\n",
      "\n",
      "\n",
      "There are   3 columns of type float64:\n",
      "['LotFrontage', 'MasVnrArea', 'GarageYrBlt']\n",
      "\n",
      "\n",
      "There are  43 columns of type object:\n",
      "['MSZoning', 'Street', 'Alley', 'LotShape', 'LandContour', 'Utilities', 'LotConfig', 'LandSlope', 'Neighborhood', 'Condition1', 'Condition2', 'BldgType', 'HouseStyle', 'RoofStyle', 'RoofMatl', 'Exterior1st', 'Exterior2nd', 'MasVnrType', 'ExterQual', 'ExterCond', 'Foundation', 'BsmtQual', 'BsmtCond', 'BsmtExposure', 'BsmtFinType1', 'BsmtFinType2', 'Heating', 'HeatingQC', 'CentralAir', 'Electrical', 'KitchenQual', 'Functional', 'FireplaceQu', 'GarageType', 'GarageFinish', 'GarageQual', 'GarageCond', 'PavedDrive', 'PoolQC', 'Fence', 'MiscFeature', 'SaleType', 'SaleCondition']\n",
      "\n",
      "\n"
     ]
    }
   ],
   "source": [
    "dtype_groups = houses.columns.to_series().groupby(houses.dtypes).apply(list)\n",
    "\n",
    "int_cols, float_cols, object_cols = [], [], []\n",
    "\n",
    "for dtype, columns in dtype_groups.items():\n",
    "    if dtype == 'int64': int_cols = columns\n",
    "    elif dtype =='float64': float_cols = columns\n",
    "    else: object_cols = columns\n",
    "        \n",
    "    print(f\"There are {len(columns):3} columns of type {dtype}:\")\n",
    "    print(columns)\n",
    "    print(\"\\n\")"
   ]
  },
  {
   "cell_type": "code",
   "execution_count": 5,
   "id": "4e48dbc9",
   "metadata": {
    "execution": {
     "iopub.execute_input": "2024-09-16T12:38:51.274588Z",
     "iopub.status.busy": "2024-09-16T12:38:51.273535Z",
     "iopub.status.idle": "2024-09-16T12:38:51.281167Z",
     "shell.execute_reply": "2024-09-16T12:38:51.279911Z"
    },
    "papermill": {
     "duration": 0.02199,
     "end_time": "2024-09-16T12:38:51.284126",
     "exception": false,
     "start_time": "2024-09-16T12:38:51.262136",
     "status": "completed"
    },
    "tags": []
   },
   "outputs": [
    {
     "name": "stdout",
     "output_type": "stream",
     "text": [
      "Id                 int64\n",
      "MSSubClass         int64\n",
      "MSZoning          object\n",
      "LotFrontage      float64\n",
      "LotArea            int64\n",
      "                  ...   \n",
      "MoSold             int64\n",
      "YrSold             int64\n",
      "SaleType          object\n",
      "SaleCondition     object\n",
      "SalePrice          int64\n",
      "Length: 81, dtype: object\n"
     ]
    }
   ],
   "source": [
    "print(houses.dtypes)"
   ]
  },
  {
   "cell_type": "code",
   "execution_count": 6,
   "id": "2e6b446a",
   "metadata": {
    "execution": {
     "iopub.execute_input": "2024-09-16T12:38:51.306145Z",
     "iopub.status.busy": "2024-09-16T12:38:51.305734Z",
     "iopub.status.idle": "2024-09-16T12:38:51.310832Z",
     "shell.execute_reply": "2024-09-16T12:38:51.309566Z"
    },
    "papermill": {
     "duration": 0.019121,
     "end_time": "2024-09-16T12:38:51.313516",
     "exception": false,
     "start_time": "2024-09-16T12:38:51.294395",
     "status": "completed"
    },
    "tags": []
   },
   "outputs": [],
   "source": [
    "features = int_cols + float_cols"
   ]
  },
  {
   "cell_type": "code",
   "execution_count": 7,
   "id": "a8e3af5c",
   "metadata": {
    "execution": {
     "iopub.execute_input": "2024-09-16T12:38:51.335708Z",
     "iopub.status.busy": "2024-09-16T12:38:51.335234Z",
     "iopub.status.idle": "2024-09-16T12:38:51.377072Z",
     "shell.execute_reply": "2024-09-16T12:38:51.375956Z"
    },
    "papermill": {
     "duration": 0.056376,
     "end_time": "2024-09-16T12:38:51.380082",
     "exception": false,
     "start_time": "2024-09-16T12:38:51.323706",
     "status": "completed"
    },
    "tags": []
   },
   "outputs": [
    {
     "data": {
      "text/html": [
       "<div>\n",
       "<style scoped>\n",
       "    .dataframe tbody tr th:only-of-type {\n",
       "        vertical-align: middle;\n",
       "    }\n",
       "\n",
       "    .dataframe tbody tr th {\n",
       "        vertical-align: top;\n",
       "    }\n",
       "\n",
       "    .dataframe thead th {\n",
       "        text-align: right;\n",
       "    }\n",
       "</style>\n",
       "<table border=\"1\" class=\"dataframe\">\n",
       "  <thead>\n",
       "    <tr style=\"text-align: right;\">\n",
       "      <th></th>\n",
       "      <th>Variable Name</th>\n",
       "      <th>Missing Count</th>\n",
       "      <th>Missing Rate (%)</th>\n",
       "      <th>Unique Count</th>\n",
       "      <th>Unique Rate (%)</th>\n",
       "    </tr>\n",
       "  </thead>\n",
       "  <tbody>\n",
       "    <tr>\n",
       "      <th>35</th>\n",
       "      <td>LotFrontage</td>\n",
       "      <td>259</td>\n",
       "      <td>17.739726</td>\n",
       "      <td>110</td>\n",
       "      <td>7.534247</td>\n",
       "    </tr>\n",
       "    <tr>\n",
       "      <th>37</th>\n",
       "      <td>GarageYrBlt</td>\n",
       "      <td>81</td>\n",
       "      <td>5.547945</td>\n",
       "      <td>97</td>\n",
       "      <td>6.643836</td>\n",
       "    </tr>\n",
       "    <tr>\n",
       "      <th>36</th>\n",
       "      <td>MasVnrArea</td>\n",
       "      <td>8</td>\n",
       "      <td>0.547945</td>\n",
       "      <td>327</td>\n",
       "      <td>22.397260</td>\n",
       "    </tr>\n",
       "    <tr>\n",
       "      <th>27</th>\n",
       "      <td>EnclosedPorch</td>\n",
       "      <td>0</td>\n",
       "      <td>0.000000</td>\n",
       "      <td>120</td>\n",
       "      <td>8.219178</td>\n",
       "    </tr>\n",
       "    <tr>\n",
       "      <th>21</th>\n",
       "      <td>TotRmsAbvGrd</td>\n",
       "      <td>0</td>\n",
       "      <td>0.000000</td>\n",
       "      <td>12</td>\n",
       "      <td>0.821918</td>\n",
       "    </tr>\n",
       "    <tr>\n",
       "      <th>22</th>\n",
       "      <td>Fireplaces</td>\n",
       "      <td>0</td>\n",
       "      <td>0.000000</td>\n",
       "      <td>4</td>\n",
       "      <td>0.273973</td>\n",
       "    </tr>\n",
       "    <tr>\n",
       "      <th>23</th>\n",
       "      <td>GarageCars</td>\n",
       "      <td>0</td>\n",
       "      <td>0.000000</td>\n",
       "      <td>5</td>\n",
       "      <td>0.342466</td>\n",
       "    </tr>\n",
       "    <tr>\n",
       "      <th>24</th>\n",
       "      <td>GarageArea</td>\n",
       "      <td>0</td>\n",
       "      <td>0.000000</td>\n",
       "      <td>441</td>\n",
       "      <td>30.205479</td>\n",
       "    </tr>\n",
       "    <tr>\n",
       "      <th>25</th>\n",
       "      <td>WoodDeckSF</td>\n",
       "      <td>0</td>\n",
       "      <td>0.000000</td>\n",
       "      <td>274</td>\n",
       "      <td>18.767123</td>\n",
       "    </tr>\n",
       "    <tr>\n",
       "      <th>26</th>\n",
       "      <td>OpenPorchSF</td>\n",
       "      <td>0</td>\n",
       "      <td>0.000000</td>\n",
       "      <td>202</td>\n",
       "      <td>13.835616</td>\n",
       "    </tr>\n",
       "    <tr>\n",
       "      <th>29</th>\n",
       "      <td>ScreenPorch</td>\n",
       "      <td>0</td>\n",
       "      <td>0.000000</td>\n",
       "      <td>76</td>\n",
       "      <td>5.205479</td>\n",
       "    </tr>\n",
       "    <tr>\n",
       "      <th>28</th>\n",
       "      <td>3SsnPorch</td>\n",
       "      <td>0</td>\n",
       "      <td>0.000000</td>\n",
       "      <td>20</td>\n",
       "      <td>1.369863</td>\n",
       "    </tr>\n",
       "    <tr>\n",
       "      <th>1</th>\n",
       "      <td>MSSubClass</td>\n",
       "      <td>0</td>\n",
       "      <td>0.000000</td>\n",
       "      <td>15</td>\n",
       "      <td>1.027397</td>\n",
       "    </tr>\n",
       "    <tr>\n",
       "      <th>30</th>\n",
       "      <td>PoolArea</td>\n",
       "      <td>0</td>\n",
       "      <td>0.000000</td>\n",
       "      <td>8</td>\n",
       "      <td>0.547945</td>\n",
       "    </tr>\n",
       "    <tr>\n",
       "      <th>31</th>\n",
       "      <td>MiscVal</td>\n",
       "      <td>0</td>\n",
       "      <td>0.000000</td>\n",
       "      <td>21</td>\n",
       "      <td>1.438356</td>\n",
       "    </tr>\n",
       "    <tr>\n",
       "      <th>32</th>\n",
       "      <td>MoSold</td>\n",
       "      <td>0</td>\n",
       "      <td>0.000000</td>\n",
       "      <td>12</td>\n",
       "      <td>0.821918</td>\n",
       "    </tr>\n",
       "    <tr>\n",
       "      <th>33</th>\n",
       "      <td>YrSold</td>\n",
       "      <td>0</td>\n",
       "      <td>0.000000</td>\n",
       "      <td>5</td>\n",
       "      <td>0.342466</td>\n",
       "    </tr>\n",
       "    <tr>\n",
       "      <th>34</th>\n",
       "      <td>SalePrice</td>\n",
       "      <td>0</td>\n",
       "      <td>0.000000</td>\n",
       "      <td>663</td>\n",
       "      <td>45.410959</td>\n",
       "    </tr>\n",
       "    <tr>\n",
       "      <th>20</th>\n",
       "      <td>KitchenAbvGr</td>\n",
       "      <td>0</td>\n",
       "      <td>0.000000</td>\n",
       "      <td>4</td>\n",
       "      <td>0.273973</td>\n",
       "    </tr>\n",
       "    <tr>\n",
       "      <th>0</th>\n",
       "      <td>Id</td>\n",
       "      <td>0</td>\n",
       "      <td>0.000000</td>\n",
       "      <td>1460</td>\n",
       "      <td>100.000000</td>\n",
       "    </tr>\n",
       "    <tr>\n",
       "      <th>18</th>\n",
       "      <td>HalfBath</td>\n",
       "      <td>0</td>\n",
       "      <td>0.000000</td>\n",
       "      <td>3</td>\n",
       "      <td>0.205479</td>\n",
       "    </tr>\n",
       "    <tr>\n",
       "      <th>17</th>\n",
       "      <td>FullBath</td>\n",
       "      <td>0</td>\n",
       "      <td>0.000000</td>\n",
       "      <td>4</td>\n",
       "      <td>0.273973</td>\n",
       "    </tr>\n",
       "    <tr>\n",
       "      <th>2</th>\n",
       "      <td>LotArea</td>\n",
       "      <td>0</td>\n",
       "      <td>0.000000</td>\n",
       "      <td>1073</td>\n",
       "      <td>73.493151</td>\n",
       "    </tr>\n",
       "    <tr>\n",
       "      <th>3</th>\n",
       "      <td>OverallQual</td>\n",
       "      <td>0</td>\n",
       "      <td>0.000000</td>\n",
       "      <td>10</td>\n",
       "      <td>0.684932</td>\n",
       "    </tr>\n",
       "    <tr>\n",
       "      <th>4</th>\n",
       "      <td>OverallCond</td>\n",
       "      <td>0</td>\n",
       "      <td>0.000000</td>\n",
       "      <td>9</td>\n",
       "      <td>0.616438</td>\n",
       "    </tr>\n",
       "    <tr>\n",
       "      <th>5</th>\n",
       "      <td>YearBuilt</td>\n",
       "      <td>0</td>\n",
       "      <td>0.000000</td>\n",
       "      <td>112</td>\n",
       "      <td>7.671233</td>\n",
       "    </tr>\n",
       "    <tr>\n",
       "      <th>6</th>\n",
       "      <td>YearRemodAdd</td>\n",
       "      <td>0</td>\n",
       "      <td>0.000000</td>\n",
       "      <td>61</td>\n",
       "      <td>4.178082</td>\n",
       "    </tr>\n",
       "    <tr>\n",
       "      <th>7</th>\n",
       "      <td>BsmtFinSF1</td>\n",
       "      <td>0</td>\n",
       "      <td>0.000000</td>\n",
       "      <td>637</td>\n",
       "      <td>43.630137</td>\n",
       "    </tr>\n",
       "    <tr>\n",
       "      <th>8</th>\n",
       "      <td>BsmtFinSF2</td>\n",
       "      <td>0</td>\n",
       "      <td>0.000000</td>\n",
       "      <td>144</td>\n",
       "      <td>9.863014</td>\n",
       "    </tr>\n",
       "    <tr>\n",
       "      <th>9</th>\n",
       "      <td>BsmtUnfSF</td>\n",
       "      <td>0</td>\n",
       "      <td>0.000000</td>\n",
       "      <td>780</td>\n",
       "      <td>53.424658</td>\n",
       "    </tr>\n",
       "    <tr>\n",
       "      <th>10</th>\n",
       "      <td>TotalBsmtSF</td>\n",
       "      <td>0</td>\n",
       "      <td>0.000000</td>\n",
       "      <td>721</td>\n",
       "      <td>49.383562</td>\n",
       "    </tr>\n",
       "    <tr>\n",
       "      <th>11</th>\n",
       "      <td>1stFlrSF</td>\n",
       "      <td>0</td>\n",
       "      <td>0.000000</td>\n",
       "      <td>753</td>\n",
       "      <td>51.575342</td>\n",
       "    </tr>\n",
       "    <tr>\n",
       "      <th>12</th>\n",
       "      <td>2ndFlrSF</td>\n",
       "      <td>0</td>\n",
       "      <td>0.000000</td>\n",
       "      <td>417</td>\n",
       "      <td>28.561644</td>\n",
       "    </tr>\n",
       "    <tr>\n",
       "      <th>13</th>\n",
       "      <td>LowQualFinSF</td>\n",
       "      <td>0</td>\n",
       "      <td>0.000000</td>\n",
       "      <td>24</td>\n",
       "      <td>1.643836</td>\n",
       "    </tr>\n",
       "    <tr>\n",
       "      <th>14</th>\n",
       "      <td>GrLivArea</td>\n",
       "      <td>0</td>\n",
       "      <td>0.000000</td>\n",
       "      <td>861</td>\n",
       "      <td>58.972603</td>\n",
       "    </tr>\n",
       "    <tr>\n",
       "      <th>15</th>\n",
       "      <td>BsmtFullBath</td>\n",
       "      <td>0</td>\n",
       "      <td>0.000000</td>\n",
       "      <td>4</td>\n",
       "      <td>0.273973</td>\n",
       "    </tr>\n",
       "    <tr>\n",
       "      <th>16</th>\n",
       "      <td>BsmtHalfBath</td>\n",
       "      <td>0</td>\n",
       "      <td>0.000000</td>\n",
       "      <td>3</td>\n",
       "      <td>0.205479</td>\n",
       "    </tr>\n",
       "    <tr>\n",
       "      <th>19</th>\n",
       "      <td>BedroomAbvGr</td>\n",
       "      <td>0</td>\n",
       "      <td>0.000000</td>\n",
       "      <td>8</td>\n",
       "      <td>0.547945</td>\n",
       "    </tr>\n",
       "  </tbody>\n",
       "</table>\n",
       "</div>"
      ],
      "text/plain": [
       "    Variable Name  Missing Count  Missing Rate (%)  Unique Count  \\\n",
       "35    LotFrontage            259         17.739726           110   \n",
       "37    GarageYrBlt             81          5.547945            97   \n",
       "36     MasVnrArea              8          0.547945           327   \n",
       "27  EnclosedPorch              0          0.000000           120   \n",
       "21   TotRmsAbvGrd              0          0.000000            12   \n",
       "22     Fireplaces              0          0.000000             4   \n",
       "23     GarageCars              0          0.000000             5   \n",
       "24     GarageArea              0          0.000000           441   \n",
       "25     WoodDeckSF              0          0.000000           274   \n",
       "26    OpenPorchSF              0          0.000000           202   \n",
       "29    ScreenPorch              0          0.000000            76   \n",
       "28      3SsnPorch              0          0.000000            20   \n",
       "1      MSSubClass              0          0.000000            15   \n",
       "30       PoolArea              0          0.000000             8   \n",
       "31        MiscVal              0          0.000000            21   \n",
       "32         MoSold              0          0.000000            12   \n",
       "33         YrSold              0          0.000000             5   \n",
       "34      SalePrice              0          0.000000           663   \n",
       "20   KitchenAbvGr              0          0.000000             4   \n",
       "0              Id              0          0.000000          1460   \n",
       "18       HalfBath              0          0.000000             3   \n",
       "17       FullBath              0          0.000000             4   \n",
       "2         LotArea              0          0.000000          1073   \n",
       "3     OverallQual              0          0.000000            10   \n",
       "4     OverallCond              0          0.000000             9   \n",
       "5       YearBuilt              0          0.000000           112   \n",
       "6    YearRemodAdd              0          0.000000            61   \n",
       "7      BsmtFinSF1              0          0.000000           637   \n",
       "8      BsmtFinSF2              0          0.000000           144   \n",
       "9       BsmtUnfSF              0          0.000000           780   \n",
       "10    TotalBsmtSF              0          0.000000           721   \n",
       "11       1stFlrSF              0          0.000000           753   \n",
       "12       2ndFlrSF              0          0.000000           417   \n",
       "13   LowQualFinSF              0          0.000000            24   \n",
       "14      GrLivArea              0          0.000000           861   \n",
       "15   BsmtFullBath              0          0.000000             4   \n",
       "16   BsmtHalfBath              0          0.000000             3   \n",
       "19   BedroomAbvGr              0          0.000000             8   \n",
       "\n",
       "    Unique Rate (%)  \n",
       "35         7.534247  \n",
       "37         6.643836  \n",
       "36        22.397260  \n",
       "27         8.219178  \n",
       "21         0.821918  \n",
       "22         0.273973  \n",
       "23         0.342466  \n",
       "24        30.205479  \n",
       "25        18.767123  \n",
       "26        13.835616  \n",
       "29         5.205479  \n",
       "28         1.369863  \n",
       "1          1.027397  \n",
       "30         0.547945  \n",
       "31         1.438356  \n",
       "32         0.821918  \n",
       "33         0.342466  \n",
       "34        45.410959  \n",
       "20         0.273973  \n",
       "0        100.000000  \n",
       "18         0.205479  \n",
       "17         0.273973  \n",
       "2         73.493151  \n",
       "3          0.684932  \n",
       "4          0.616438  \n",
       "5          7.671233  \n",
       "6          4.178082  \n",
       "7         43.630137  \n",
       "8          9.863014  \n",
       "9         53.424658  \n",
       "10        49.383562  \n",
       "11        51.575342  \n",
       "12        28.561644  \n",
       "13         1.643836  \n",
       "14        58.972603  \n",
       "15         0.273973  \n",
       "16         0.205479  \n",
       "19         0.547945  "
      ]
     },
     "execution_count": 7,
     "metadata": {},
     "output_type": "execute_result"
    }
   ],
   "source": [
    "temp = houses[features]\n",
    "\n",
    "stats = pd.DataFrame({\n",
    "    'Variable Name': temp.columns,\n",
    "    'Missing Count': temp.isnull().sum().values,\n",
    "    'Missing Rate (%)': 100*temp.isnull().mean().values,\n",
    "    'Unique Count': temp.nunique().values,\n",
    "    'Unique Rate (%)': 100*temp.nunique().values / len(temp)\n",
    "}).sort_values(['Missing Rate (%)'], ascending=False)\n",
    "stats"
   ]
  },
  {
   "cell_type": "code",
   "execution_count": 8,
   "id": "4425ba75",
   "metadata": {
    "execution": {
     "iopub.execute_input": "2024-09-16T12:38:51.404448Z",
     "iopub.status.busy": "2024-09-16T12:38:51.403314Z",
     "iopub.status.idle": "2024-09-16T12:38:51.837145Z",
     "shell.execute_reply": "2024-09-16T12:38:51.835895Z"
    },
    "papermill": {
     "duration": 0.448888,
     "end_time": "2024-09-16T12:38:51.839892",
     "exception": false,
     "start_time": "2024-09-16T12:38:51.391004",
     "status": "completed"
    },
    "tags": []
   },
   "outputs": [
    {
     "data": {
      "image/png": "[encoded data removed]",
      "text/plain": [
       "<Figure size 800x400 with 1 Axes>"
      ]
     },
     "metadata": {},
     "output_type": "display_data"
    }
   ],
   "source": [
    "plt.figure(figsize=(8, 4))\n",
    "\n",
    "plt.hist(houses['SalePrice'], bins=50, edgecolor='black', linewidth=1.5, color='#4682B4', alpha=0.5);\n",
    "plt.xlabel('SalePrice')\n",
    "plt.title(\"Distribution of Target SalePrice\", fontsize=12)\n",
    "\n",
    "ax = plt.gca()\n",
    "ax.xaxis.set_major_formatter(ticker.FuncFormatter(lambda y, pos: f'{int(y/1_000)}k'))\n",
    "\n",
    "plt.show()"
   ]
  },
  {
   "cell_type": "markdown",
   "id": "5ce7f334",
   "metadata": {
    "papermill": {
     "duration": 0.011573,
     "end_time": "2024-09-16T12:38:51.863168",
     "exception": false,
     "start_time": "2024-09-16T12:38:51.851595",
     "status": "completed"
    },
    "tags": []
   },
   "source": [
    "# Preparation"
   ]
  },
  {
   "cell_type": "code",
   "execution_count": 9,
   "id": "501fe710",
   "metadata": {
    "execution": {
     "iopub.execute_input": "2024-09-16T12:38:51.888790Z",
     "iopub.status.busy": "2024-09-16T12:38:51.888309Z",
     "iopub.status.idle": "2024-09-16T12:38:53.251981Z",
     "shell.execute_reply": "2024-09-16T12:38:53.250724Z"
    },
    "papermill": {
     "duration": 1.380001,
     "end_time": "2024-09-16T12:38:53.254923",
     "exception": false,
     "start_time": "2024-09-16T12:38:51.874922",
     "status": "completed"
    },
    "tags": []
   },
   "outputs": [],
   "source": [
    "from sklearn.model_selection import train_test_split, GridSearchCV, KFold\n",
    "from sklearn.metrics import mean_squared_error\n",
    "from xgboost import XGBRegressor\n",
    "from sklearn.preprocessing import StandardScaler\n",
    "from sklearn.pipeline import Pipeline\n",
    "from sklearn.impute import SimpleImputer\n",
    "\n",
    "X = houses[features]\n",
    "y = houses['SalePrice']\n",
    "\n",
    "X_train, X_test, y_train, y_test = train_test_split(X, y, \n",
    "                                                    test_size=0.2, random_state=RANDOM_STATE)\n",
    "\n",
    "preprocessing_pipeline = Pipeline(steps=[\n",
    "    ('imputer', SimpleImputer(strategy='mean')),  # Impute missing values\n",
    "    ('scaler', StandardScaler())                  # Scale numeric features\n",
    "])\n",
    "\n",
    "X_train_scaled = preprocessing_pipeline.fit_transform(X_train)\n",
    "X_test_scaled = preprocessing_pipeline.transform(X_test)"
   ]
  },
  {
   "cell_type": "code",
   "execution_count": 10,
   "id": "063d30fa",
   "metadata": {
    "execution": {
     "iopub.execute_input": "2024-09-16T12:38:53.279609Z",
     "iopub.status.busy": "2024-09-16T12:38:53.279132Z",
     "iopub.status.idle": "2024-09-16T12:38:53.287260Z",
     "shell.execute_reply": "2024-09-16T12:38:53.286123Z"
    },
    "papermill": {
     "duration": 0.023455,
     "end_time": "2024-09-16T12:38:53.289735",
     "exception": false,
     "start_time": "2024-09-16T12:38:53.266280",
     "status": "completed"
    },
    "tags": []
   },
   "outputs": [
    {
     "data": {
      "text/plain": [
       "Index([ 892, 1105,  413,  522, 1036,  614,  218, 1160,  649,  887,\n",
       "       ...\n",
       "        989,  677,  478, 1271, 1410,  479, 1361,  802,  651,  722],\n",
       "      dtype='int64', length=292)"
      ]
     },
     "execution_count": 10,
     "metadata": {},
     "output_type": "execute_result"
    }
   ],
   "source": [
    "y_test.index"
   ]
  },
  {
   "cell_type": "markdown",
   "id": "561e4a23",
   "metadata": {
    "papermill": {
     "duration": 0.011625,
     "end_time": "2024-09-16T12:38:53.312806",
     "exception": false,
     "start_time": "2024-09-16T12:38:53.301181",
     "status": "completed"
    },
    "tags": []
   },
   "source": [
    "# Modeling"
   ]
  },
  {
   "cell_type": "code",
   "execution_count": 11,
   "id": "a326043b",
   "metadata": {
    "execution": {
     "iopub.execute_input": "2024-09-16T12:38:53.337636Z",
     "iopub.status.busy": "2024-09-16T12:38:53.337181Z",
     "iopub.status.idle": "2024-09-16T12:38:53.343775Z",
     "shell.execute_reply": "2024-09-16T12:38:53.342588Z"
    },
    "papermill": {
     "duration": 0.022176,
     "end_time": "2024-09-16T12:38:53.346221",
     "exception": false,
     "start_time": "2024-09-16T12:38:53.324045",
     "status": "completed"
    },
    "tags": []
   },
   "outputs": [],
   "source": [
    "xgb_model = XGBRegressor(\n",
    "    objective='reg:squarederror',  # Required optimization metric for this competition.\n",
    "    random_state=RANDOM_STATE,\n",
    "    n_estimators=500,\n",
    "    learning_rate=0.05,\n",
    "    max_depth=6,\n",
    "    subsample=0.8,\n",
    "    colsample_bytree=0.8,\n",
    "    reg_alpha=0.1,\n",
    "    reg_lambda=2.0,\n",
    "    early_stopping_rounds=50\n",
    ")"
   ]
  },
  {
   "cell_type": "code",
   "execution_count": 12,
   "id": "a24bcc25",
   "metadata": {
    "execution": {
     "iopub.execute_input": "2024-09-16T12:38:53.370913Z",
     "iopub.status.busy": "2024-09-16T12:38:53.370452Z",
     "iopub.status.idle": "2024-09-16T12:38:59.018033Z",
     "shell.execute_reply": "2024-09-16T12:38:59.015965Z"
    },
    "papermill": {
     "duration": 5.663062,
     "end_time": "2024-09-16T12:38:59.020697",
     "exception": false,
     "start_time": "2024-09-16T12:38:53.357635",
     "status": "completed"
    },
    "tags": []
   },
   "outputs": [
    {
     "name": "stdout",
     "output_type": "stream",
     "text": [
      "Fold 1 -> Train RMSE: 247.7984, Validation RMSE: 5971.1700\n",
      "Fold 2 -> Train RMSE: 298.0933, Validation RMSE: 5945.7664\n",
      "Fold 3 -> Train RMSE: 182.8531, Validation RMSE: 11932.0777\n",
      "Fold 4 -> Train RMSE: 250.6029, Validation RMSE: 5936.7442\n",
      "Fold 5 -> Train RMSE: 273.3152, Validation RMSE: 5106.8196\n"
     ]
    }
   ],
   "source": [
    "kf = KFold(n_splits=5, \n",
    "           shuffle=True, \n",
    "           random_state=RANDOM_STATE)\n",
    "\n",
    "# Track RMSE per fold.\n",
    "train_rmse_per_fold = []\n",
    "val_rmse_per_fold = []\n",
    "\n",
    "# Track predictions per fold.\n",
    "train_predictions = []\n",
    "val_predictions = []\n",
    "\n",
    "# KFold Cross-Validation.\n",
    "for fold, (train_idx, val_idx) in enumerate(kf.split(X_train_scaled)):\n",
    "    X_train_cv, X_val_cv = X_train_scaled[train_idx], X_train_scaled[val_idx]\n",
    "    y_train_cv, y_val_cv = y_train.iloc[train_idx], y_train.iloc[val_idx]\n",
    "    \n",
    "    xgb_model.fit(X_train_cv, y_train_cv, eval_set=[(X_val_cv, y_val_cv)], verbose=False)\n",
    "    \n",
    "    # Predict on training and validation.\n",
    "    y_train_pred = xgb_model.predict(X_train_cv)\n",
    "    y_val_pred = xgb_model.predict(X_val_cv)\n",
    "    \n",
    "    # Track predictions.\n",
    "    train_predictions.append(y_train_pred)\n",
    "    val_predictions.append(y_val_pred)\n",
    "    \n",
    "    # Calculate RMSE.\n",
    "    train_rmse = np.sqrt(mean_squared_error(y_train_cv, y_train_pred))\n",
    "    val_rmse = np.sqrt(mean_squared_error(y_val_cv, y_val_pred))\n",
    "    \n",
    "    # Track RMSE.\n",
    "    train_rmse_per_fold.append(train_rmse)\n",
    "    val_rmse_per_fold.append(val_rmse)\n",
    "    \n",
    "    print(f\"Fold {fold+1} -> Train RMSE: {train_rmse:.4f}, Validation RMSE: {val_rmse:.4f}\")"
   ]
  },
  {
   "cell_type": "code",
   "execution_count": 13,
   "id": "6497062e",
   "metadata": {
    "execution": {
     "iopub.execute_input": "2024-09-16T12:38:59.049701Z",
     "iopub.status.busy": "2024-09-16T12:38:59.049231Z",
     "iopub.status.idle": "2024-09-16T12:38:59.056772Z",
     "shell.execute_reply": "2024-09-16T12:38:59.055578Z"
    },
    "papermill": {
     "duration": 0.023759,
     "end_time": "2024-09-16T12:38:59.059059",
     "exception": false,
     "start_time": "2024-09-16T12:38:59.035300",
     "status": "completed"
    },
    "tags": []
   },
   "outputs": [
    {
     "name": "stdout",
     "output_type": "stream",
     "text": [
      "Training   RMSE:  250.53 +-   38.39\n",
      "Validation RMSE: 6978.52 +- 2498.30\n"
     ]
    }
   ],
   "source": [
    "train_mu, train_sd = np.mean(train_rmse_per_fold), np.std(train_rmse_per_fold)\n",
    "val_mu, val_sd = np.mean(val_rmse_per_fold), np.std(val_rmse_per_fold)\n",
    "print(f\"Training   RMSE: {train_mu:>7.2f} +- {train_sd:>7.2f}\")\n",
    "print(f\"Validation RMSE: {val_mu:>7.2f} +- {val_sd:>7.2f}\")"
   ]
  },
  {
   "cell_type": "code",
   "execution_count": 14,
   "id": "a5e9dd94",
   "metadata": {
    "execution": {
     "iopub.execute_input": "2024-09-16T12:38:59.085963Z",
     "iopub.status.busy": "2024-09-16T12:38:59.085512Z",
     "iopub.status.idle": "2024-09-16T12:38:59.091084Z",
     "shell.execute_reply": "2024-09-16T12:38:59.089891Z"
    },
    "papermill": {
     "duration": 0.022734,
     "end_time": "2024-09-16T12:38:59.093780",
     "exception": false,
     "start_time": "2024-09-16T12:38:59.071046",
     "status": "completed"
    },
    "tags": []
   },
   "outputs": [],
   "source": [
    "train_predictions = np.concatenate(train_predictions)\n",
    "val_predictions = np.concatenate(val_predictions)"
   ]
  },
  {
   "cell_type": "code",
   "execution_count": 15,
   "id": "cefc62ff",
   "metadata": {
    "execution": {
     "iopub.execute_input": "2024-09-16T12:38:59.120553Z",
     "iopub.status.busy": "2024-09-16T12:38:59.120083Z",
     "iopub.status.idle": "2024-09-16T12:38:59.132155Z",
     "shell.execute_reply": "2024-09-16T12:38:59.131294Z"
    },
    "papermill": {
     "duration": 0.032983,
     "end_time": "2024-09-16T12:38:59.138968",
     "exception": false,
     "start_time": "2024-09-16T12:38:59.105985",
     "status": "completed"
    },
    "tags": []
   },
   "outputs": [
    {
     "name": "stdout",
     "output_type": "stream",
     "text": [
      "Test RMSE: 9586.7193\n"
     ]
    }
   ],
   "source": [
    "# Evaluate on test set.\n",
    "y_test_pred = xgb_model.predict(X_test_scaled)\n",
    "test_rmse = np.sqrt(mean_squared_error(y_test, y_test_pred))\n",
    "print(f\"Test RMSE: {test_rmse:.4f}\")"
   ]
  },
  {
   "cell_type": "code",
   "execution_count": 16,
   "id": "38886825",
   "metadata": {
    "execution": {
     "iopub.execute_input": "2024-09-16T12:38:59.166655Z",
     "iopub.status.busy": "2024-09-16T12:38:59.165808Z",
     "iopub.status.idle": "2024-09-16T12:38:59.171988Z",
     "shell.execute_reply": "2024-09-16T12:38:59.170668Z"
    },
    "papermill": {
     "duration": 0.022318,
     "end_time": "2024-09-16T12:38:59.174510",
     "exception": false,
     "start_time": "2024-09-16T12:38:59.152192",
     "status": "completed"
    },
    "tags": []
   },
   "outputs": [],
   "source": [
    "train_predictions_clean = np.where(np.isinf(train_predictions), np.nan, train_predictions)\n",
    "val_predictions_clean = np.where(np.isinf(val_predictions), np.nan, val_predictions)"
   ]
  },
  {
   "cell_type": "code",
   "execution_count": 17,
   "id": "694dc3f2",
   "metadata": {
    "execution": {
     "iopub.execute_input": "2024-09-16T12:38:59.200120Z",
     "iopub.status.busy": "2024-09-16T12:38:59.199704Z",
     "iopub.status.idle": "2024-09-16T12:39:00.077362Z",
     "shell.execute_reply": "2024-09-16T12:39:00.075415Z"
    },
    "papermill": {
     "duration": 0.895469,
     "end_time": "2024-09-16T12:39:00.081983",
     "exception": false,
     "start_time": "2024-09-16T12:38:59.186514",
     "status": "completed"
    },
    "tags": []
   },
   "outputs": [
    {
     "name": "stderr",
     "output_type": "stream",
     "text": [
      "/opt/conda/lib/python3.10/site-packages/seaborn/_oldcore.py:1119: FutureWarning: use_inf_as_na option is deprecated and will be removed in a future version. Convert inf values to NaN before operating instead.\n",
      "  with pd.option_context('mode.use_inf_as_na', True):\n",
      "/opt/conda/lib/python3.10/site-packages/seaborn/_oldcore.py:1119: FutureWarning: use_inf_as_na option is deprecated and will be removed in a future version. Convert inf values to NaN before operating instead.\n",
      "  with pd.option_context('mode.use_inf_as_na', True):\n"
     ]
    },
    {
     "data": {
      "image/png": "[encoded data removed]",
      "text/plain": [
       "<Figure size 1000x400 with 1 Axes>"
      ]
     },
     "metadata": {},
     "output_type": "display_data"
    },
    {
     "name": "stdout",
     "output_type": "stream",
     "text": [
      "Fold 1 -> Train RMSE: 247.7984, Validation RMSE: 5971.1700\n",
      "Fold 2 -> Train RMSE: 298.0933, Validation RMSE: 5945.7664\n",
      "Fold 3 -> Train RMSE: 182.8531, Validation RMSE: 11932.0777\n",
      "Fold 4 -> Train RMSE: 250.6029, Validation RMSE: 5936.7442\n",
      "Fold 5 -> Train RMSE: 273.3152, Validation RMSE: 5106.8196\n"
     ]
    }
   ],
   "source": [
    "# --------------------------------------------------------- #\n",
    "# Confidence Intervals for Train and Validation Predictions #\n",
    "# --------------------------------------------------------- #\n",
    "\n",
    "plt.figure(figsize=(10, 4))\n",
    "\n",
    "sns.histplot(train_predictions_clean, kde=True, color=\"#4C72B0\", linewidth=1.75, label=f\"Train Predictions (Mean RMSE: {train_mu:,.0f})\", alpha=0.75, fill=True)\n",
    "sns.histplot(val_predictions_clean, kde=True, color=\"#55A868\", linewidth=1.75, label=f\"Validation Predictions (Mean RMSE: {val_mu:,.0f})\", alpha=1.0, fill=True)\n",
    "\n",
    "plt.axvline(np.mean(y_test_pred), color=\"red\", linestyle=\"--\", linewidth=1.75, label=f\"Test Prediction Mean RMSE: {test_rmse:,.0f}\")\n",
    "\n",
    "plt.title(\"Comparing Train, Validation and Test Prediction\", fontsize=12)\n",
    "plt.xlabel(\"Predicted SalePrice\")\n",
    "plt.ylabel(\"Density\")\n",
    "plt.legend()\n",
    "\n",
    "ax = plt.gca()\n",
    "ax.xaxis.set_major_formatter(ticker.FuncFormatter(lambda y, pos: f'{int(y/1_000)}k'))\n",
    "\n",
    "plt.show()\n",
    "\n",
    "# Display Train/Validation RMSE per fold.\n",
    "for i, (train_rmse, val_rmse) in enumerate(zip(train_rmse_per_fold, val_rmse_per_fold), 1):\n",
    "    print(f\"Fold {i} -> Train RMSE: {train_rmse:.4f}, Validation RMSE: {val_rmse:.4f}\")"
   ]
  },
  {
   "cell_type": "code",
   "execution_count": 18,
   "id": "6d33d2ab",
   "metadata": {
    "execution": {
     "iopub.execute_input": "2024-09-16T12:39:00.111657Z",
     "iopub.status.busy": "2024-09-16T12:39:00.111178Z",
     "iopub.status.idle": "2024-09-16T12:39:00.130064Z",
     "shell.execute_reply": "2024-09-16T12:39:00.128916Z"
    },
    "papermill": {
     "duration": 0.037046,
     "end_time": "2024-09-16T12:39:00.132990",
     "exception": false,
     "start_time": "2024-09-16T12:39:00.095944",
     "status": "completed"
    },
    "tags": []
   },
   "outputs": [],
   "source": [
    "y_pred_train = xgb_model.predict(X_train_scaled)\n",
    "y_pred_test = xgb_model.predict(X_test_scaled)"
   ]
  },
  {
   "cell_type": "code",
   "execution_count": 19,
   "id": "fbdf4276",
   "metadata": {
    "_kg_hide-input": true,
    "execution": {
     "iopub.execute_input": "2024-09-16T12:39:00.164669Z",
     "iopub.status.busy": "2024-09-16T12:39:00.164169Z",
     "iopub.status.idle": "2024-09-16T12:39:01.820767Z",
     "shell.execute_reply": "2024-09-16T12:39:01.819544Z"
    },
    "papermill": {
     "duration": 1.675288,
     "end_time": "2024-09-16T12:39:01.823902",
     "exception": false,
     "start_time": "2024-09-16T12:39:00.148614",
     "status": "completed"
    },
    "tags": []
   },
   "outputs": [
    {
     "data": {
      "image/png": "[encoded data removed]",
      "text/plain": [
       "<Figure size 1200x500 with 6 Axes>"
      ]
     },
     "metadata": {},
     "output_type": "display_data"
    }
   ],
   "source": [
    "def plot_with_histograms(y_train, y_pred_train, y_test, y_pred_test):\n",
    "    \"\"\"Plots train and test predictions with histograms on the right and top.\"\"\"\n",
    "    \n",
    "    fig, axes = plt.subplots(1, 2, figsize=(12, 5))\n",
    "\n",
    "    # --- Train Predictions vs True Values ---\n",
    "    ax = axes[0]\n",
    "    ax.scatter(y_train, y_pred_train, color=\"#4C72B0\", alpha=0.6, edgecolor='black')\n",
    "    ax.plot([min(y_train), max(y_train)], [min(y_train), max(y_train)], '--', color='red')\n",
    "    ax.set_xlabel(\"True SalePrice\")\n",
    "    ax.set_ylabel(\"Predicted SalePrice\")\n",
    "\n",
    "    # --- Test Predictions vs True Values ---\n",
    "    ax = axes[1]\n",
    "    ax.scatter(y_test, y_pred_test, color=\"#55A868\", alpha=0.6, edgecolor='black')\n",
    "    ax.plot([min(y_test), max(y_test)], [min(y_test), max(y_test)], '--', color='red')\n",
    "    ax.set_xlabel(\"True SalePrice\")\n",
    "    ax.set_ylabel(\"Predicted SalePrice\")\n",
    "\n",
    "    for ax in axes:\n",
    "        ax.xaxis.set_major_formatter(ticker.FuncFormatter(lambda x, pos: f'{int(x/1_000)}k'))\n",
    "        ax.yaxis.set_major_formatter(ticker.FuncFormatter(lambda y, pos: f'{int(y/1_000)}k'))\n",
    "\n",
    "    for i, (ax, (y_true, y_pred)) in enumerate(zip(axes, [(y_train, y_pred_train), (y_test, y_pred_test)])):\n",
    "        divider = make_axes_locatable(ax)\n",
    "        \n",
    "        ax_histx = divider.append_axes(\"top\", 0.8, pad=0.1, sharex=ax)\n",
    "        ax_histx.hist(y_pred, bins=30, color='#FF6347', alpha=0.6, edgecolor='black')\n",
    "        ax_histx.set_ylabel('Count')\n",
    "        ax_histx.xaxis.set_major_formatter(ticker.FuncFormatter(lambda x, pos: f'{int(x/1_000)}k'))\n",
    "        \n",
    "        ax_histy = divider.append_axes(\"right\", 0.8, pad=0.1, sharey=ax)\n",
    "        ax_histy.hist(y_true, bins=30, color='#9370DB', alpha=0.6, orientation='horizontal', edgecolor='black')\n",
    "        ax_histy.set_xlabel('Count')\n",
    "        ax_histy.yaxis.set_major_formatter(ticker.FuncFormatter(lambda y, pos: f'{int(y/1_000)}k'))\n",
    "        \n",
    "        if i == 0: \n",
    "            ax_histx.set_title('Train Predictions vs True Values', fontsize=12)\n",
    "        if i == 1:\n",
    "            ax_histx.set_title('Test Predictions vs True Values', fontsize=12)\n",
    "        \n",
    "        plt.setp(ax_histx.get_xticklabels(), visible=False)\n",
    "        plt.setp(ax_histy.get_yticklabels(), visible=False)\n",
    "\n",
    "\n",
    "plot_with_histograms(y_train, y_pred_train, y_test, y_pred_test)"
   ]
  },
  {
   "cell_type": "markdown",
   "id": "c1dc8704",
   "metadata": {
    "papermill": {
     "duration": 0.015146,
     "end_time": "2024-09-16T12:39:01.856505",
     "exception": false,
     "start_time": "2024-09-16T12:39:01.841359",
     "status": "completed"
    },
    "tags": []
   },
   "source": [
    "Let's take a look at the spread of errors. "
   ]
  },
  {
   "cell_type": "code",
   "execution_count": 20,
   "id": "60ba2ae9",
   "metadata": {
    "_kg_hide-input": true,
    "execution": {
     "iopub.execute_input": "2024-09-16T12:39:01.888194Z",
     "iopub.status.busy": "2024-09-16T12:39:01.887786Z",
     "iopub.status.idle": "2024-09-16T12:39:02.407786Z",
     "shell.execute_reply": "2024-09-16T12:39:02.406585Z"
    },
    "papermill": {
     "duration": 0.539121,
     "end_time": "2024-09-16T12:39:02.410548",
     "exception": false,
     "start_time": "2024-09-16T12:39:01.871427",
     "status": "completed"
    },
    "tags": []
   },
   "outputs": [
    {
     "data": {
      "image/png": "[encoded data removed]",
      "text/plain": [
       "<Figure size 1000x400 with 2 Axes>"
      ]
     },
     "metadata": {},
     "output_type": "display_data"
    }
   ],
   "source": [
    "def plot_residuals(y_true_train, y_pred_train, y_true_test, y_pred_test):\n",
    "    residuals_train = y_true_train - y_pred_train\n",
    "    residuals_test = y_true_test - y_pred_test\n",
    "\n",
    "    fig, axes = plt.subplots(1, 2, figsize=(10, 4))\n",
    "\n",
    "    # --- Train Residuals ---\n",
    "    axes[0].scatter(y_true_train, residuals_train, color=\"#4C72B0\", edgecolor='black', alpha=0.6)\n",
    "    axes[0].axhline(0, linestyle='--', color='red')\n",
    "    axes[0].set_title(\"Train Residuals\", fontsize=12)\n",
    "    axes[0].set_xlabel(\"True SalePrice\")\n",
    "    axes[0].set_ylabel(\"Residuals\")\n",
    "\n",
    "    # --- Test Residuals ---\n",
    "    axes[1].scatter(y_true_test, residuals_test, color=\"#55A868\", edgecolor='black', alpha=0.6)\n",
    "    axes[1].axhline(0, linestyle='--', color='red')\n",
    "    axes[1].set_title(\"Test Residuals\", fontsize=12)\n",
    "    axes[1].set_xlabel(\"True SalePrice\")\n",
    "    axes[1].set_ylabel(\"Residuals\")\n",
    "    \n",
    "    axes[0].xaxis.set_major_formatter(ticker.FuncFormatter(lambda x, pos: f'{int(x/1_000)}k'))\n",
    "    axes[0].yaxis.set_major_formatter(ticker.FuncFormatter(lambda x, pos: f'{int(x/1_000)}k'))    \n",
    "    axes[1].xaxis.set_major_formatter(ticker.FuncFormatter(lambda x, pos: f'{int(x/1_000)}k'))\n",
    "    axes[1].yaxis.set_major_formatter(ticker.FuncFormatter(lambda x, pos: f'{int(x/1_000)}k'))        \n",
    "\n",
    "    plt.tight_layout()\n",
    "    plt.show()\n",
    "    \n",
    "plot_residuals(y_train, y_pred_train, y_test, y_pred_test)"
   ]
  },
  {
   "cell_type": "markdown",
   "id": "0fba552a",
   "metadata": {
    "papermill": {
     "duration": 0.016784,
     "end_time": "2024-09-16T12:39:02.443903",
     "exception": false,
     "start_time": "2024-09-16T12:39:02.427119",
     "status": "completed"
    },
    "tags": []
   },
   "source": [
    "# Submission"
   ]
  },
  {
   "cell_type": "code",
   "execution_count": 21,
   "id": "f4b00174",
   "metadata": {
    "execution": {
     "iopub.execute_input": "2024-09-16T12:39:02.481295Z",
     "iopub.status.busy": "2024-09-16T12:39:02.480213Z",
     "iopub.status.idle": "2024-09-16T12:39:02.509709Z",
     "shell.execute_reply": "2024-09-16T12:39:02.508568Z"
    },
    "papermill": {
     "duration": 0.051805,
     "end_time": "2024-09-16T12:39:02.512737",
     "exception": false,
     "start_time": "2024-09-16T12:39:02.460932",
     "status": "completed"
    },
    "tags": []
   },
   "outputs": [
    {
     "name": "stdout",
     "output_type": "stream",
     "text": [
      "Submission file 'test.csv' created successfully!\n"
     ]
    },
    {
     "data": {
      "text/html": [
       "<div>\n",
       "<style scoped>\n",
       "    .dataframe tbody tr th:only-of-type {\n",
       "        vertical-align: middle;\n",
       "    }\n",
       "\n",
       "    .dataframe tbody tr th {\n",
       "        vertical-align: top;\n",
       "    }\n",
       "\n",
       "    .dataframe thead th {\n",
       "        text-align: right;\n",
       "    }\n",
       "</style>\n",
       "<table border=\"1\" class=\"dataframe\">\n",
       "  <thead>\n",
       "    <tr style=\"text-align: right;\">\n",
       "      <th></th>\n",
       "      <th>Id</th>\n",
       "      <th>SalePrice</th>\n",
       "    </tr>\n",
       "  </thead>\n",
       "  <tbody>\n",
       "    <tr>\n",
       "      <th>892</th>\n",
       "      <td>893</td>\n",
       "      <td>150877.656250</td>\n",
       "    </tr>\n",
       "    <tr>\n",
       "      <th>1105</th>\n",
       "      <td>1106</td>\n",
       "      <td>327954.687500</td>\n",
       "    </tr>\n",
       "    <tr>\n",
       "      <th>413</th>\n",
       "      <td>414</td>\n",
       "      <td>117011.257812</td>\n",
       "    </tr>\n",
       "    <tr>\n",
       "      <th>522</th>\n",
       "      <td>523</td>\n",
       "      <td>159494.578125</td>\n",
       "    </tr>\n",
       "    <tr>\n",
       "      <th>1036</th>\n",
       "      <td>1037</td>\n",
       "      <td>313634.718750</td>\n",
       "    </tr>\n",
       "    <tr>\n",
       "      <th>...</th>\n",
       "      <td>...</td>\n",
       "      <td>...</td>\n",
       "    </tr>\n",
       "    <tr>\n",
       "      <th>479</th>\n",
       "      <td>480</td>\n",
       "      <td>89324.578125</td>\n",
       "    </tr>\n",
       "    <tr>\n",
       "      <th>1361</th>\n",
       "      <td>1362</td>\n",
       "      <td>254782.625000</td>\n",
       "    </tr>\n",
       "    <tr>\n",
       "      <th>802</th>\n",
       "      <td>803</td>\n",
       "      <td>187959.625000</td>\n",
       "    </tr>\n",
       "    <tr>\n",
       "      <th>651</th>\n",
       "      <td>652</td>\n",
       "      <td>111466.359375</td>\n",
       "    </tr>\n",
       "    <tr>\n",
       "      <th>722</th>\n",
       "      <td>723</td>\n",
       "      <td>120218.976562</td>\n",
       "    </tr>\n",
       "  </tbody>\n",
       "</table>\n",
       "<p>292 rows × 2 columns</p>\n",
       "</div>"
      ],
      "text/plain": [
       "        Id      SalePrice\n",
       "892    893  150877.656250\n",
       "1105  1106  327954.687500\n",
       "413    414  117011.257812\n",
       "522    523  159494.578125\n",
       "1036  1037  313634.718750\n",
       "...    ...            ...\n",
       "479    480   89324.578125\n",
       "1361  1362  254782.625000\n",
       "802    803  187959.625000\n",
       "651    652  111466.359375\n",
       "722    723  120218.976562\n",
       "\n",
       "[292 rows x 2 columns]"
      ]
     },
     "execution_count": 21,
     "metadata": {},
     "output_type": "execute_result"
    }
   ],
   "source": [
    "test_ids = houses.iloc[y_test.index]['Id']\n",
    "\n",
    "submission_df = pd.DataFrame({\n",
    "    'Id': test_ids,\n",
    "    'SalePrice': y_test_pred\n",
    "})\n",
    "\n",
    "submission_df.to_csv('submission.csv', index=False)\n",
    "print(f\"Submission file '{filename}' created successfully!\")\n",
    "submission_df"
   ]
  },
  {
   "cell_type": "markdown",
   "id": "be3a7991",
   "metadata": {
    "papermill": {
     "duration": 0.01612,
     "end_time": "2024-09-16T12:39:02.545245",
     "exception": false,
     "start_time": "2024-09-16T12:39:02.529125",
     "status": "completed"
    },
    "tags": []
   },
   "source": [
    "---\n",
    "\n",
    "\n",
    "💚 Thank you for reading 💚\n",
    "\n",
    "If you have any questions or feedback, feel free to leave a comment 🤔\n",
    "\n",
    "This notebook is __still in progress__.\n",
    "\n",
    "Please __UPVOTE__ if you enjoyed this notebook 🙏"
   ]
  }
 ],
 "metadata": {
  "kaggle": {
   "accelerator": "none",
   "dataSources": [
    {
     "databundleVersionId": 868283,
     "sourceId": 5407,
     "sourceType": "competition"
    }
   ],
   "dockerImageVersionId": 30761,
   "isGpuEnabled": false,
   "isInternetEnabled": true,
   "language": "python",
   "sourceType": "notebook"
  },
  "kernelspec": {
   "display_name": "Python 3",
   "language": "python",
   "name": "python3"
  },
  "language_info": {
   "codemirror_mode": {
    "name": "ipython",
    "version": 3
   },
   "file_extension": ".py",
   "mimetype": "text/x-python",
   "name": "python",
   "nbconvert_exporter": "python",
   "pygments_lexer": "ipython3",
   "version": "3.10.14"
  },
  "papermill": {
   "default_parameters": {},
   "duration": 19.423311,
   "end_time": "2024-09-16T12:39:03.385293",
   "environment_variables": {},
   "exception": null,
   "input_path": "__notebook__.ipynb",
   "output_path": "__notebook__.ipynb",
   "parameters": {},
   "start_time": "2024-09-16T12:38:43.961982",
   "version": "2.6.0"
  }
 },
 "nbformat": 4,
 "nbformat_minor": 5
}
