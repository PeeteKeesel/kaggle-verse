{
 "cells": [
  {
   "cell_type": "markdown",
   "id": "78994531",
   "metadata": {
    "papermill": {
     "duration": 0.002787,
     "end_time": "2025-04-30T20:29:11.740587",
     "exception": false,
     "start_time": "2025-04-30T20:29:11.737800",
     "status": "completed"
    },
    "tags": []
   },
   "source": [
    "✨✨This notebook is the **1st** notebook of my **🧠 Timeseries Series ⏱️**, where I am trying to dive into time series and the mathematics of common techniques. "
   ]
  },
  {
   "cell_type": "code",
   "execution_count": 1,
   "id": "0ad7ec99",
   "metadata": {
    "_cell_guid": "b1076dfc-b9ad-4769-8c92-a6c4dae69d19",
    "_uuid": "8f2839f25d086af736a60e9eeb907d3b93b6e0e5",
    "execution": {
     "iopub.execute_input": "2025-04-30T20:29:11.746560Z",
     "iopub.status.busy": "2025-04-30T20:29:11.746234Z",
     "iopub.status.idle": "2025-04-30T20:29:16.198047Z",
     "shell.execute_reply": "2025-04-30T20:29:16.196971Z"
    },
    "papermill": {
     "duration": 4.457108,
     "end_time": "2025-04-30T20:29:16.199960",
     "exception": false,
     "start_time": "2025-04-30T20:29:11.742852",
     "status": "completed"
    },
    "tags": []
   },
   "outputs": [
    {
     "name": "stdout",
     "output_type": "stream",
     "text": [
      "/kaggle/input/time-series-starter-dataset/Month_Value_1.csv\n"
     ]
    }
   ],
   "source": [
    "import numpy as np \n",
    "import pandas as pd \n",
    "\n",
    "import os\n",
    "for dirname, _, filenames in os.walk('/kaggle/input'):\n",
    "    for filename in filenames:\n",
    "        print(os.path.join(dirname, filename))\n",
    "\n",
    "import matplotlib.pyplot as plt\n",
    "import seaborn as sns\n",
    "import matplotlib.patches as mpatches\n",
    "\n",
    "import warnings\n",
    "warnings.filterwarnings(\"ignore\", category=FutureWarning)"
   ]
  },
  {
   "cell_type": "markdown",
   "id": "7ad7f895",
   "metadata": {
    "papermill": {
     "duration": 0.001866,
     "end_time": "2025-04-30T20:29:16.204261",
     "exception": false,
     "start_time": "2025-04-30T20:29:16.202395",
     "status": "completed"
    },
    "tags": []
   },
   "source": [
    "# 🧠Time Series ⏱️ Understanding Autocorrelation🌀\n",
    "\n",
    "In this notebook we dive into the mathematics autocorrelation, partial autocorrelation and how to create respective plots from scratch, like the Partial Auto Correlation Function. The objective is to understand autocorrelations and it's math and fully grasp plots which we normally use for time series analysis. "
   ]
  },
  {
   "cell_type": "markdown",
   "id": "222e6291",
   "metadata": {
    "papermill": {
     "duration": 0.001577,
     "end_time": "2025-04-30T20:29:16.207773",
     "exception": false,
     "start_time": "2025-04-30T20:29:16.206196",
     "status": "completed"
    },
    "tags": []
   },
   "source": [
    "# Global Variables & Settings"
   ]
  },
  {
   "cell_type": "code",
   "execution_count": 2,
   "id": "4f6924c0",
   "metadata": {
    "execution": {
     "iopub.execute_input": "2025-04-30T20:29:16.213183Z",
     "iopub.status.busy": "2025-04-30T20:29:16.212589Z",
     "iopub.status.idle": "2025-04-30T20:29:16.217445Z",
     "shell.execute_reply": "2025-04-30T20:29:16.216518Z"
    },
    "papermill": {
     "duration": 0.009594,
     "end_time": "2025-04-30T20:29:16.219162",
     "exception": false,
     "start_time": "2025-04-30T20:29:16.209568",
     "status": "completed"
    },
    "tags": []
   },
   "outputs": [],
   "source": [
    "RANDOM_SEED = 42\n",
    "\n",
    "np.random.seed(RANDOM_SEED)"
   ]
  },
  {
   "cell_type": "markdown",
   "id": "845c790c",
   "metadata": {
    "papermill": {
     "duration": 0.001867,
     "end_time": "2025-04-30T20:29:16.223451",
     "exception": false,
     "start_time": "2025-04-30T20:29:16.221584",
     "status": "completed"
    },
    "tags": []
   },
   "source": [
    "# Autocorrelation"
   ]
  },
  {
   "cell_type": "code",
   "execution_count": null,
   "id": "c6775ed1",
   "metadata": {
    "papermill": {
     "duration": 0.001601,
     "end_time": "2025-04-30T20:29:16.227025",
     "exception": false,
     "start_time": "2025-04-30T20:29:16.225424",
     "status": "completed"
    },
    "tags": []
   },
   "outputs": [],
   "source": []
  }
 ],
 "metadata": {
  "kaggle": {
   "accelerator": "none",
   "dataSources": [
    {
     "datasetId": 631139,
     "sourceId": 1123196,
     "sourceType": "datasetVersion"
    }
   ],
   "dockerImageVersionId": 31012,
   "isGpuEnabled": false,
   "isInternetEnabled": true,
   "language": "python",
   "sourceType": "notebook"
  },
  "kernelspec": {
   "display_name": "Python 3",
   "language": "python",
   "name": "python3"
  },
  "language_info": {
   "codemirror_mode": {
    "name": "ipython",
    "version": 3
   },
   "file_extension": ".py",
   "mimetype": "text/x-python",
   "name": "python",
   "nbconvert_exporter": "python",
   "pygments_lexer": "ipython3",
   "version": "3.11.11"
  },
  "papermill": {
   "default_parameters": {},
   "duration": 12.490957,
   "end_time": "2025-04-30T20:29:16.950406",
   "environment_variables": {},
   "exception": null,
   "input_path": "__notebook__.ipynb",
   "output_path": "__notebook__.ipynb",
   "parameters": {},
   "start_time": "2025-04-30T20:29:04.459449",
   "version": "2.6.0"
  }
 },
 "nbformat": 4,
 "nbformat_minor": 5
}
